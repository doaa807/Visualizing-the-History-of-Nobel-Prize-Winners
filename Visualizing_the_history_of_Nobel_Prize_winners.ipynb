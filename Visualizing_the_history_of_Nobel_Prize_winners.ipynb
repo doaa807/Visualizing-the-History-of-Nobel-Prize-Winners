{
  "nbformat": 4,
  "nbformat_minor": 0,
  "metadata": {
    "colab": {
      "provenance": []
    },
    "kernelspec": {
      "name": "python3",
      "display_name": "Python 3"
    },
    "language_info": {
      "name": "python"
    }
  },
  "cells": [
    {
      "cell_type": "markdown",
      "source": [
        "The Nobel Prize has been among the most prestigious international awards since 1901. Each year, awards are bestowed in chemistry, literature, physics, physiology or medicine, economics, and peace. In addition to the honor, prestige, and substantial prize money, the recipient also gets a gold medal with an image of Alfred Nobel (1833 - 1896), who established the prize."
      ],
      "metadata": {
        "id": "GyXaa33Z-Niv"
      }
    },
    {
      "cell_type": "markdown",
      "source": [
        "![nobel.webp](data:image/webp;base64,UklGRrJYAABXRUJQVlA4IKZYAAAw1gGdASpYApABPpFCm0qlo7UwpZOLaqASCWVuDsiuT94mXo56Xi6L0xRPHOqt6OU+rcX88z55cM8za/nX+H+6fkL+me+f/Z+1lg/+B7sv8zz+f9vjn+5f8HoI5Cf/XwbOw40yfN9js8nsHsEeUp/5eeH92/7vBJHy7cRMDWZcfh1XFHYnks8gzLzZgX/J9oOfdWvPF6XNEYfohSava2Nur6+qKYTVdt7A9wdb8kP17qPTOSVtbSixQ6Kt5BpJxCAgiieYmzbXnbaeIvDla7sXVfL0G+poKbeUt7j5d8/9qQqgMdgayiThXQRJYvlgYS+hkm1T1+o/Jw8FPPuS/25nVo0XKluBcHjmaOSP5TpyFiM6iUr5GVBiSrYCZXBpF0aphxx70U4HtskM2Z4hVagqbmKui4yI/hjLPYjgdNy2x6WR3niTgLvPhq8nRal8Ou55hIshporQaA2RCMqUgIvEQYziHv/tOFVd3H8ivgJIF2ro9Vc9g+NOri/R+P6oiAJ+QB7818Q2wYn/jQyIQYJqRmAYz178yn6yNSU2LV//y1KWsOY1HzGm2NRg3YON7ZVomgbSXfJyzqnP1wrJLNyoZoqol4FcbTJOOxGMGOsof5kmfDcg1F66nMmMdxH06Ult/ofG4OkghTuh2SQ6lrcjgK7KWa90YZzn1bcNIhmP+HzZf4+/cQCmG05dXA1G41vgutzGMzBUJ1oeddRpKaLyUO1E24lmgfunJcw3RINZ6Iz8U4Nkm95uGS7zgDMj2oElQJH/0TM9U2iXiWeDKqTiwXcTiDrD+cGh1XULdceJN+HTIFVnK5eQCApRLz2zxpyT+dtNUYlR1iAElaKTbIsitVC4/d6oCogoCBVCZU32J5KrmXzaEKSI5qInzmKWZ6qPkxoqy6l7YNn7n2D6gsh7qq1fI2X393y//VS5f5mrBDNzqkiDjnjOrDicDdaTD48MeBw/EqMA2O4WEF3D/le36i/ecBusIjsW0CPcomvsBnNI/u4X2u9fYh91xf+gxL7tm1oYlJ1+FYX49MLZJ83p1eBc0lmpraZ7lCpv5dssW1o8LmxHtc4FXjxdi3EhKK3tp6E0RAIZt7l3KBs/COw+FltEHr6DslXkCisG2H44ROyA7PKjUKGIjhNWJfbI3Jg8f5L74i949oxd7WkwqvNSUYkFjuPN2IV05AmrvdMJEr+mEkaA5kQwHyePcZubfpcHhIyJc2Gv9aWErxrEFBxRao7rEXTxa9O9000lNy6jL7sgsuraqbG0BINohQv+Y7bH8Q+4DZZutqpb0dZufA6Hg65MB+sfHBZ4LJHzXNGBEU4c1iEOOKvT86eYIwuYpYPOAXNz5P8sPkDTfjRPRwLYPKC12pNT6q7eg+oVUmQ1nq8QO1RT4msETnGSwKUX2MkTLO5atKb4AmtcQ2X3rIzp2bm5vMt2dJJgWXYbWIFi67HnFEuhkcOhaTlNp4CqUZtrdyPI9EPMMOfO36P2nDySEk5cP2XmEnPM01ED3GFzI5stL7VhensCn2x9RgfXw6fFEd+VNyrHaslNPuXN84vouyywUwTqDRLlQNc8s2NHIh/sTMMOOE/4QRUYcm2Kp3STwnwlgWU9uYl1dISrw9twkrVYVhX5kLgPMV1QhMS814joaBukXXh+3gTmsReqs6mee+o1BVByVut/gqbsoMazUsYPKp9hJyZd9RFDriSKRIa4sviZBL8NiCPxGrwdcYyHLTGmj5/j2BVwDWqaCeBi+DDhM4rVPNtHTzho5dJFlojaV2mcfh0Ge6oef3gTDoD/S9h9mNZdEw6mslerh53UiGaiDZGqrdscI6dYzToX7Tb+ZKd9zjMkdgJfrT6/uuP/hScXaY5P4xNRs9Qpuz9dnGUk/j4iNUNvRMmRgR1NWpXG48MJqnzgZ3selFR/zoAJYt9fB4eqB0wMr/uDgoaxSpnAVYJkeOmEZZy7Ej8Zc44eTFZp8fbAux5BtgoYL/1nyV91f+mLzs7cchN/pHlmOlf7x9yHV4VgBeYI0NEAPtfLd4C+yo0yyL1oYmIf/C2J2wOqY5R4srlHUuCl6XZ2pzSrZUMk2tPuQWzwsXv0XH274QrSWiSHgga7VPPOZEB+4blo5HJ7bMgmVR2jtbH5haRXJ1ZzuMoKK7vec2Y+K1JxpF62AizBqp3YdvYijuMWwHalEYFHsBIZy5/YXXJnPEKBiKqfeOaZN0ylO37+rgLk3gSeBio8+02iQvSBvuXbRsb3NdwAwkF1syfoFts+Gj9yXRa0mM/EKKMv+hKpt7kGAMZ//bUzXD742/sZzXUY59sQiNyW8H58JiIBPoN+BNQN4EqMwSUKt168X9jhHoGrvxutn6nTTwPvel/qoNrxbI1wv78Vz54jCbqW8bc++9OzXarw6v3vmupaxvpOPobDLRn3YTfe8Dq9sb5SgL1nTaNkJ2LBIW6/N/gv8fyXdOYhUnhbklbAl6NiM8qChG6t+UxhHwPpiJr3RHQYgGb+UQ4LqE+TJvRaGQQu7pcxQ4qNdDHJ5YcAw+5ptFFvMiziVwpqMcI+OBRo31oUyqdWZyVZzYz0+dfUslugY7UWXp8xJHcnJTqwVPrBlwz24yQ66dv/q8d23JQIA0tof/1dfmqrX/G9d//PvMtZplUAAVXPcswpgqIwCdkQ8hkLyfusCuUoQ743zIOvo4VuR+tgI5wwHq4lX5PkQn6uUDYbQd3yU+ME1hwRiCDTW+/6MDNfjXSzAJNWwooXBSiCgRjaDh9fqh4yhaNFoyu9GMrbvgMWef7xCggCmdcS7cS0yvrghl2ieRYxWB6EPLEjEUfq6KuoJdWeCib3lG9aqI4Taj4s+QcrfNOcUbDJFGLg6tQPPTicPn7l1mNjRnPPx2Cjkiu00ARA3ZsmVTwLpVnIU9SdxYjJm1srEUM8zR4VhLnP5Pcs3zhCcOnDt90tcQbHwHmKtqXb6AGd/zUZ3Al1cfzkaXHiKegdcevlI7y+hRT4rVlCbB5IJHsbnt5rAqPwd4X/D2PsTddhFwVQv082f7iLBTh39lUpOklNmW88ggGzlZ2MG92tr5lZkp6gfnjvi4mHoHLmNlrTw91G3/yEt5uF5XVaZuoOKj9RWMKX9Gv9Kl2CLGkO/xhAGs+E9Kl0W4HPLA5FZ4wUAEhWm2HCZcINO2InE4hIlgfQ2tz4NUZZX8Cf7VAaSaETJNx4NE6XCm9hUrnurDfRMAhps+mT8G6GqiD/+eauesqCYj25hlW9Q3tQTAcpI5sC0djxoetO31wocccqq1CTMY/KXUmhTqw8rqobYkXlBX1hsD7U2SEW9j0wWzqXIXiw3UdFiJWnHkBq2B0BJFprQDdU4RTL6kl6FlY7t7LqcM071B2sJtZEKgnsx5vB+LoZ4DXJI5p17gHotUY3grf0Da/XC4aq8Z5lrULrD7+YGuasfgbbJHHtIxP6VRO4+7umqjCm0qXfpWeeca2R0bQWjOeqvpyizdFb1zuNomKPYP8nq0OfGxv5t5apEtO9FLaQ2X9+ZV/2cvHy+PbpWamxa6TyQtjL9Y3ZcP5+7/ASDmBszJTXrzoeVYWcGVKmxhLbO9EZX+7U8gLj5/kdJVxILLLgyTjxFvdztmwLSQ5RAbBpCTIDINPHZneXGEJWc4nqYhc9LcMS2XXJZf1e16icy4zZibykba/GWR9kbnskbqcUyr2EBFI/Gu4MMTPz/fdF3ymx/HJBeKqsk2+LatrPRanQegda+LakdXa1QVM52JqH9DR3NKbuhjxIEgcyHjKlNkPbYecJ94e4piVn0cATuvAMiPNvj5VlpsYXUZHVyRKKsNtUqEuQHHyQB/RP1ZpUN02RMM0k0CjCBgDkQv3KDAtCrFkoQu5dDvCzlyfSFBCHfmIySq1RvhOnbdQi35D+25DbOFOq3Q3IVldKMpRV+t1EAKuVP84mcQUaH7VVA/Y9Afgy+YL9k+ynXdvXHfAP/3XzHmxL0vacbecH5Nv0gzuFAr/63qhRw0wPpV2T1s0BEefG5R5CLbAILab4FZlBe1jmZ5cTuj5S8zbm+OiVJCBxOdtlMtQu+bEox77JfqiG9KMSD85LRjZXAO6m8ulZIcmlBsOu8BxieHDBH1DlrrPkB8GGSRuosDvEGBDHS3N/nQ3EP1MQRS/vf2DmpUNX3JI9+xJ0bf/8gimRAAWR8C6Lc9MEv5trAMvu5p+d7qYudF/nZidDAKse9jLdOTOqI8Avsblm+DzexCEieIfWblMxuAYwkSQ3O3t0oD8e7kn0vec/l0LckblbrFSmqW8xmhb8dZsq+dwPXTWCk+Gyc3JyVNvEuu/PHHuW+ORVMdJjvOvXYnK5zcSfExpAIWFjJLvIa3bIPAHRmEoMmW3YgNIdMgaA2xhB72O5Vwfx/nKm5eSYWDE/YE2pKmfWYmkUF0aozU0KDC3u2hy9XeeQdSCzH5M4E1Cdv5y4prvvRlw7vqoJ0svLwtu0WZMLgL+qskp/xzTqG5RTaj00Fw+GFd0klZYgQ9nB4ZE952D1BIHW9+JRvgawp9Z8tq0Jc/1Wj639iVudSVhWdv5vj1wdqWXF9AqgIX+0r6/IQreoblzfjPURLHIlgK2lwRGaaFRaQB7UP8zmEVOCzsjjlla1SkV0bfAmMlkJ0j0+XniIleKNlfzcMggif2/rapJPFoEPrY+SQZqZQg35oOSH28DnDH/l3hWHITxFUQCI2VA2QupsKXmvzO/gbcWVxHbfUFy7882JBhMjbQX762OfHC06yIj+S4nomHnHkHZRCxLYrlh2Fbu2qLAIhwcJGaJBHnV/qCONOiyb6rJ88H+fMqD1xpL5abmYH0oQI27+35J707MZAxaWUnj6JcEyUGgTEUkCQOeySMi8Bwj0Pqe11NSMV4OPooja2kn0QRrqkm5myMJ0JcWRgwN5KV0ou7YwGSzQRrUmkq51cYU1Vbx55ZsKjcvy8ceMcFVcX83FFP7f3OG/GgIXshw9WGAI38hJxNilALYy7segCLVjSIt4J2P+Fvkbe0J6HVXnTSvmNIoo8AD9jXjidPyNcceER7Qr5DT/yS7Ld7vwL3IvqflmlfvameLPkU4Zgyea+itNb3844DLYYBv5poUbhCZFdHxEhDI2vsJBKvUIBMupfc8AAlu+6dcyRAe1PRwo+HWdwltt4bW4y6/7mPf84jbfolPMNdSKiImqXJaFtlmElWt/os4i0zKZL6+zKP/eQqjiS+6M4zpErZosfxLHRM1rJlOfjZeD2ssHJHZS75qm1kjjrPwQZ5OYwq8OZ1Mjezavj6ZqwCginAo8uGrhAfXTR8+qSDJD4z6BQDMGpnHsJMIAAFTD4fIUKdiioLmYZkyD3tjd9VfRXo2g5MseoEekuiWKCgxCsCXQvpB+Yh1lTp8l5masiz84MulHbeKIWN2rXOqLZ4NBt/Rr5U2WZz0UclD+B40fQO3F6zdMUgx4zEUCbQKgVn88zQWTFwqzcVlusioGMP4WPInYcuomcwteLtnGTDs3RsADY59jo3Jwns9m2b4i6j/uesICpuYyXWcwegrwKC/TQwUXdAB7t6gojDixZy7O4rAhQjP/Ejk4xhgKAjA6YzHQzDKpz1IJEBLtO578/LGrUPnflep6yAG8dhS3zw3mz24RzNgrukwr9/a5c8b+l8l0sryFxkseGxovCMi5pGp9TysNbeRnUe8PbwZgUiLsz4C2UVyr3usBPhz0zItlVk6dAGfCm7A+KOv0nwm4LaEzWYOpvi8zWRpewWQJ/KKBwd9QYcN50VgTSC+KUUs4/8ULnl4L56Q9WjmOTLHOZwrwL383CZCWwEO2GCQkEy65aobej8r0IkLmvbFB/Ghh1zTbs/LVylYo+hOZZulfwo5+zZNFyPHI/tc5QRZ3RuQcN/kQ6Tg1YPe74NiAS/zd1ERSYoTRW92yW7bWWT3ttxeqJy3YfT0eOMO4VWGVzKzITjv/dgrKKM2xdN6H3ZBbCQABuUcieOKnz0Sep6yCEX6v2uezNF+1R2jqeyQm1+Q0BGFi+ZF6iztIyapHa8dmCpdDQYD4BF/vgZmNFxCr7jKn/r78gCa56iF8UScFtWVEYph5wZxNFthAv+5cbNtBj0BtONHXzucl/NFahW2vVpKiIVyLpUpF5eWAl1Y5qAl4H4eVU862TEnfGkzt54pVwyGFF9lWc23h6GxCMkg1aryx8+dEF+3np+ki9Trk6cyChLAsGk4KtUX5StSr551ilImNYaIV/A6VnYbNqAskVKdSsCOCjTvnAmMkxo6rVQrToKY+dSXQuR5L5orLcoUf9P6HsMAxLfeynoJNRsZ1bFicIopX7mMzAmy2cJNGIP0gNPPzAphk6jI2PGvkSEdPqKmf+jpejxUsHiXJ+XktOTngJ5HZnLUP7YnsqSZLKzQh9zgh+3+TM1M8wUI4iUFfZqqb2pJi42kzhjXjJFKSSNJV6rLpV8ThEK+TjKnNdZBHENVKkCzPikCSEwUPxn8NsXvdDzRzM6eLd3UhsQowscY6phlGMU1bcLQzEBdBNdzx63UX/j6aGYYgLQbxK4mYfkU4MlbfmrjLVtukfY03W+QNgMvTK0rtYb+3LP6/VQHLvmrNBgFefYpcHonk3X2Qz+hyqGxfh8m/jk8nBSh6nulkQ5464drX+clYuiLToW8G8ziOWEdvkXTXt1m8kVMaollAGjsAH6LoRcnZR+9fVPDSw3kg0Ihi8iFQnt68HimAha0VS3sGwBoC1qCSId1PlzPUay4KPr+81QUxmajwUcpQUrU+HSZJqzMNNIlyJHfdJedEnux5rjtN9Tt3bg/2hBz+Clsoo6SBL2xqKYqMJzUNhGglOQB0Xg4DHjOxzh3WYbVKijsOvGh2Zs0LDxGGTqKZpmuKxoItO2GOsIspBRT1crToT0qxFm9b/eJFO4xX+ZzuRuwL7kDZws40GEgxhnhFniSTHEXWp367eTqQC+txEjbFCMzwecl/Rfejpn2qGxBTH99OfdHFBIY2HvfE+yNfLiD61YETje5a/am8CR+0h5VYjc8CggcXk1Gvh5FBBMQx4guFlYxdhJTEjKItqQgpMx9eY7Fq6/55mR0iDQKTLWyyuV1PhGnlZ3PxsXo5p6pcI0JfouWDQdAHhDT1TdcUPhxZ0l6MzVraRvYhgBo1xYvs4ya++eoCtn9BKqPPjSdrfUgj5OOqUL83kPy7RiFhpBUkMgL3DlYp9Bp6hW46ddmr8emuUcsY8q4hFY3gPClzyvEFKri187ceF7828+fnrNFsXOZHfhj+H1Ejlcih5lFm+iN/hI51FQ3piF3itVANlri6w8BCHKTfEeCBYwNo6Nw61idNpHltXDjC5XHH/yfopX25o3jFylSdNduTxlMwrzdMtNPUmU5ymG3o71n456tJt9fqh+kR9vb7b71yCLh8SPfCVLc/kAI6/c4QyeTXMnmjCE8p0YDIInugUjAjE4hSXBTEIR0FULpShjoCdGuYXlRAfTXVyI24SO8vatSFFMshz3jeVbT0tuJkPHsTvrCzbScwMKuqLWIQZgsOCbbBAzPdtlvsSSg35nu6Dg9AOPa5aGiz/YRA3zTz1zFviCI2xF5acuxNWyigO0AD9gZPBNo0KhD7cmtL/G1HFB+/g9T7N+rZiGgPJ+d4LPUvnLzh+IMdaTutSrgGczNIy1YrdYpcdwrKRp8vnamuvv+fImjeQ55FJXBmXCYjAb8SRTQhintZGFACyFysgTmBJPLF0T9t/2NWzYWRKFPNJnk0hYLOgEr0IkXuHhDH/aps4T9nWPe72i8sa138N7CfAblJeNvPEYABUNMevH18Z4y4P/gwBobAYLetcOA3mKS4sxKG/wx/Gyaiia8rQZAMLx0uMDs9i7OENZpdDkT+f1ptOnd77bMxJGPX+J7j8EuNIwFecfPbEAOXcOsEchdbgYyy3BhUThUYY1v3HySiNUp40PA/RWXS894It6RK8EAcDeVd3fly+u1yY/koNamsm28lzkkFqm/KpeLG8ZqwEAzUW0fyfud3PNfAocBMy/SzIpu9e1hKVctTUs39jC4Becwkmd4/WzkGBLrsuLgj8N4JEK1ywnXt3vAuX+5GuxLC4TfOY8Nagu3Xg5WjrQUtteMRk6lRxLOHDVzCNN7C+YVPawoOEdWbx7e1diXUriapG4dKtF57k5/xv3dxuF2M/xO0Fq0zZmy2/gWYLFU+SJjkpiirIRwNpWRmCvk5esKszR6xXxwieOAyBxuiNriEj5eNe16driNk/vwyPxjJw+Yd9ym7yvOjWG/T3eg8TiZabKJOCgx/kp4J05Wx6i9brcDNNJTZ5VGVK5e5rzxwJnGzJoBOhmtHxSbyTucUJUAcNu1BxvTSL/KYVChzqSQ5jLS2Z4WOKegEAAhakDIjv1NUAr24yXpfz0RVSaxlnrwhmXn+D6wMcAmKRHZpNKeMy195U1YN9GGcTrRaJaxLLBgPF/tRcR+ZvVq6BCAOiINEXalV+7fYT8ukT3w/uX+BCdFuOAnrlTEf/KM9in0uRq+vmcr1uX/Bv8F9av21UFq0wHIM0d50J/5qgYclkmmQmQRm3QyHUEVRcCKzkWkhHH5ep9P32kWuHWx+2Wyda27iOfRehVKJIGILYg3Mp+QxuEPwhnskCErCo/OSsvFlQwvlMnK+6YFNRqbhQ4Ff1NwVS9IEFRcx13LsZ27Xw+XhhJxGvmVUklJnxJxORKdbU62SUxzlWPKX7imaDLb1AcTpY8hMxJ3cBSxABajBtM4astJ24xTDBxcy6TB+S9Xa8X0PMg3ZU7S0ixhkdiAKhQzDOl/KoT8VSRX92MpCaP9yIZDAlBkeTPlWRGmNX0iXmDq/FYkbvvBi692dlFfFqrDAnQgKCMirNR7auRI+jSBY7bD1Ysin5MRG+XIrvOGziIDdjUXSu+O4Nq+H2JheyDQDt1ZGwc2wzzNTkopEBgbOcV55I74itB/eGZr2xoHCiKHiY6HevrCtS1VK7P5P76NSuMZuStaXiicJaogfFBmCfjotzPWmHlmRanEbPy9Sw+Q23hFF+HsQ1cRNuKLQRW8uSEDiLhGnzL5fm0MnMJny2fNTvmGQhu9UKVYqGnDp+bh2SbG9yeaZRGWzHLjqzSznuCwhgJntFqI2J5B23iZ5vW57UjObAB1//7FTfG5/D9hRCsy8W9d/Y3Oqd64X80o24Uocen3A/keFdxQoLWU57gOOKT55iWwNflTiCECfK7ZiTdg340FnWDVaPIKprxg5oZYHeSYFT8b8GlYDeRqCFxf0QH0k2UV6WT8zc3YSLZAG/hVqKCXcKKGik0YEaVq2A6KRIRnfNlJXsdowA1KQs3ucHE3jGik5AueuyTm1BnZztRl2Q2v9c30yrotWV+YatGRmIVgtu/IPgI0SXOx2ahlpikqUqmdon0hLphA6MWPjYDm75DCBrjUXP/HdA6sEiEFLDUDku28BqjW7EJax8IBIdeVM1rXo4x2p9vQfkxIF71m5DctfZ8mth9rxjbi1q0mvfA5dY6srIp5bwOTiKo0jVC9N2IxDMgj9OruAmWCerqeZ3XHZH07yKQAnXAChifHrN/c3t9V3+ZOk992Csa9nIvXya0M13svSvTOzifN3PaEIN1Lu84mtEdZGri9Ucm/MzEhdXb941TXvfIlnzYT511aRijF52vrKQ3lM8XV8/JFEhmMwx7dwnnIu6OPBZtvh9VhUIXDI8FajtxHCjmAv/UifnJ2hyI4+7EFrQR9pIkRti8ScZh3vr3YzGB7EbeD+y4D8/HX4zQ/DGemZe0aXq6Id7sNn+8suFO20UhmzDbvkSQWeMszrUzG4AbSVw7EZhgMWu0GKWQfWBca0HmwVsa4parqXHcI+unppm0bMud3dAwGngXXZkwJGeUuAB0me4NrHS7IIJq3AsAKtct9EpmEJt5qqSN03Y6I3CEWoVs0U3bWWW65eZdTrDVIX1BQohGkBHPkEINBZcB37Mj+ULYn0hdkl/bRZrFdSp83Vo7ph8VQAkvSg9HLNmdqiYLO3s3WXDETovu+GNPioCT49FWNIOIhiXADVjLWnifW1+dbaC/7uvMJmKR0TfHrKYoqOCg8t9HpXFVs9MiwaXj0KJBgwt7zfyq3V/Tu5lbYdXDKBaoPkwphh03U5yfJDR1967RuP6ym0680qbHMq1xczV0h8H/ZhdDt5WGIR1+57ZaobyVv91lEl3qz/fRMADWgx/tntfmr3QRj5snEE8ZLl5J+MpBAqfaD1L6i3T1XLFNCH16T8KRhonfrsOW9OF6cxj+ve3xGd4CRw4E1alWYoB7SVtzyXBWJOnKG1tcIZazqmngx9fzPfHU2SsxDGsyTYJSMqMl2vBprGny0jLoeDar0dUtnuKBbzDhBes4ZgC5lR7HwEGzW5uVBJnJnZOTwfGkwyuuktMPg+XuC1Wbd1fzYLTNvvS6EGNqoPjkqoKYMheByQPfhO6Jmh2U5VqqmUWGl0gI/cI6aGMtGPwf0hJd71wEvw+bF2r4XU/q8DKLXk+um77nHhaoRbVPgfjBRRICUBgJQVvtTI1F48Mw1HsucY4AHiE0EFo/DF44xpzsBiMt4JQrZCfPXQreHdEWGeX5k7PPPFR7FgBZycjYO7/W7ugdRnqaRLZjLEZEKZXDTngGH00f0gWiPracwYLvs3zVqBZAfxVdcou8Pha8TkJNUIYrL7+nLjgNJ38IwcCIl/Rn97yGWHAlwFVYBAZ15dEjiwpWbTouGJs1pGvlOTUHiUku+gYCgYCHBHmiB+xrWXZv5RPZc9f4ozmlL3CUlqatJb0sKjCRiQcOZ5HlbNNuocVVTHqyDIO5c9iNaQsN9DVfQOnbHBE/IB8NdxYhyEj8xiyUibFbuk1W8sSU2FpIavASgO/mBcp0xjIRF1qPvTL3j/pStQeED0XBT8PebcxbH2tmilVpbtWtkyFLurdSeYoMjoUi5p9ks6aRlAsGgts6LOHFzHo0QZETc+A/NLEq5PaqBoSe8KHQftIST+G2Rt3VPuqRMSk0QnRwKNHzHs+S4oIyJbWdw8Boau5J9hp1ukt317FziVQMLzLjFGxvu+GLAGeRCUnfE6rypJvEkrKfxBJMJjpy/oyWKpjRr2xHAbp7bHZ91g+obzfvrf3AGUUYhf5AEYsX0I9diA/QodmmlZky03064SzpfZ1C2h0gYVlAyxjSQ80dK1JMJULaJ8StRWrXGrXicEFKpwiiqkekMBqxV8+UQa15lyfhDHK3MhUPucwbD4CxbttuMRfkDumyOavWrRx3v2qy0zRuQEqXPVbouN7uwJalXxvh36Hbqes1HmldTIeyzeBhO2irp9NTjy9MvI50f4MkBeKXW6ZoD/hXv6IkKU6dePhX856V5FitHOCEeMpPohdax6rUHuVFd+k8c2SlcUxan/zM53b/SFygd4LVCkpTEvPXLpxfjFCkfTSvGA9+ywJn0YJo6RiXvRwB+h0V8IrlaDHL4JLBbSmvu5IS3YoDeAldhTfcGfHaWR+r3WCrbK/hK6xrYpjHC4rYTVZ088L/3+6UdGdJnWc2zkUc3Ex4vHVwWl+r2gu3zxihAenWlho+5/q+2XT9GSnn/pqjVErAb7Okhy0YXBwErwh2RLXeqxUkwHlf/wFDSwynoGSzd1R8jcc1+vpPTJJNUQGsobO3ZSDuRnxKyB++lY/PPzF9OAWoaYGePWhQ02YQaKQCcvoVHHzHoCxYUle+XBy+vxKJrMrmJDlaq0E80wv9mg1xJjQ2VzDh8DW/l4fJK5IjIXXWUHG1BhpyzwT9lT3x5UDkDB1wtkPnRQOtrhxS0I4R/J9qlTczqVdYfCgaJ9GPasPRE3E5aVoAhziOUbrPR/PH0GkMuoSyn4uGDbUTdJRExU/Ic2i6H2VBPljx8pZEqomUMdJDJLqXGiqkNmDAJw/PiR02quIaH6dsQzj4oV1wu/neJsfcjS6KcVqnxZBLpE6WMF4MbDjiHElMLWpboF/LnuIHBIPkRx/ayHfmS2TwB6w/AsqDEznWS3Dj8q6JZSd+eA9cqdT3vO+Pd8OnXIMul81aR5uphfAXumaZAWFy4q/IJpG2HHQxkS0Oz+wmrboAszt6+wJt3wXCKLwY4ymj016wrxQ0HOF8T24WKtScYz9nhJeqgdqcSaAjPrU733n3oF3MFjXHQkCHs/uwWNxfUyvTpL8Of/Gz3kUu29CH81l+LXGxpZ6VFZeVbO549Le99a68NQHPuWR7cDWrBFLJRxUEABV4KWvjr2Hj+6XJI/bBgvjBHPg91/O51hdoQWJq/pkNnua/MAv0yhp1x4vbbnFJVU0hSdCFsQSZxbzVv2L0ovi8hauWqhAcX62M0iF75VGWoYJM20Vqcdjzcgt2zSgC9wqN0K+m6/NJCKYR9pWk6J4elDaUTvR+CuqXgKmTnScXktjPOxOUIQooYL2nRAdNyDbF7v4tujgpVxGp+Rccy6egWHi/meWnaYa8KtYjBj8PaauSiZYJGK2iGfeIbsJHzsIAvPyoR1a22ssodmYd/vhHRbjKY4CnNlypmlFWZMXxJOWmliWaWOwnyk0GP7QOg2cTa8wv2tMbRoXmNA75szKVDKk57wgKJo2Zun4vWNCwxPCp1eQQ+sTpO/KMxW/6a+9ODqvm5NTTzUvq415P8DZ1+Pt4NANO4Ha797S/qlKS8Ba3YxHuJ+TaouCDRC24601ObLz1h+grd0HUkjGVu+3zq9mTMQIL+NKpHSP+dAtRk83GIBHclcvXwLKI3zLm01WQqGBxnfGozDhrgTEBmsFbzAWrtYxbMnFp5bGcdDr6Cr+mD7HGuwamnF2C/Rbv9Vm47jvaNNIzc4/mRsHWNDlrGm4dinISspKkdDdXvVieMRivngW7yC2JkwqpaHYGDTL4u6u5h5Tdj9AaqJEn0ofQrR5nDG8OIK86biw8JInYvqJBQy0K9RBjOXApEZ1LWeqR7BFjW+KL68y2BPdtKT3i12qEUdeng7jhzcXfdqePeQRe3NfHVH71Rrydkuq4j3927K60lK+4RiQ86d3BWSefNzUvzMnh+j8KecsyJiXIYTpVg0Wxf8moZvmEsA8ZebRe1IkP+/ONGuu69EPeAGwWfrYURzTeZXHD1MZvnM2+THAGqdJpsScF81etum9nTVeBTUgkcvPFij3GitMtwmQOVSm3e2jl6mPYMW2fvp+hzsQCNzJqgHV41AN27dTh8B7SlgkwwffLCnlONVsdtDSQ8h2jIWZzyzB6BqDLY9PmHUxqjuPM0+6uzxUONNiWA7+KcyXUQHKqkeJV1lhnbxf24M16wffTTdcahWYh6UwjtvQtrsTE1rkjF37biJK1MG0zXiA1D7+894Cz9P7wjSLuNWZpZY70o1oaK3JpkSPqXz/xpAgROnMCwTrQ/g2CpW3Q2kMcsB+AzTPhjlweUGALL/w2b6LHzbSvIzMJSECjhefGSHvHPrunHnRINFkex7+I8z5FVllswGgHnhRVn4RMyOUdWMHZnKSi0fjBxeGx5G/hy/BfFpd/Go7B8chaDnIO5AVB9bZdpCbcnt+IB8nidCgYZsd5myz2Kh9Dqbsr6byPtcoR/EagtoRB43gY97l8KcbmXSZou4fZ2lDCqbZk4nkxtErKnAFose+NXw0tw8T9/KHionEj1a1I3Iymn34ln/Cqdkays1e1Sh/m9kZn+/0VbRazgugn9EKIgJvFFp/uW8DlgCqx0MYminU1GE8IxNjMGod4rRIddVwUvhuYKdy/DKBoQdeaUnnwTYe1bXuwFPO3Oj449DZl0L9k2o2eCcQzu4b6q4N1F3uib4d7yGKGJ9brRJrjb5jyxoN8UuzEc4egHMZWs2j4F8ap9F/rRziwo6fOEgrUX1Xvhh/eiJ3o7mXexOYreH8Mu3ABpT/YvRzbrzlraU2iQy+/Z7cubbMOnRhKsm3RNVL3g2ahMCgteX8ukCNcCJ0nwJygXSxjlsyS9cqTmwY6BUF06GMGwJNWlfXrdlgSGQfNusz01VJkq8EtwWB5rQUsU2b9587gRTBekv/TGzjny3debnvgzVqor/fspHNrpAD6r/jVvIvddvMTSPjD5XQRMl34tRC9OVVnf17zGfHCmxvSqTD/gTkKxCHEZpCCRfVTc2mgbB8CbNe/QuNvIYKpoy91iykX2W3I5BX5ilKU3+Oh+mYj0HSEX+XX/pZgsWaV6emSQ+Tz934Gtuow84T2HKyiQBYhb4Ee4iMcV2oxKcG45pom/K9B18GRNSC5Ndv1P1Lj7kaVuZd0SaO+lvHVZZYdwLEqBITja1IX3fr5u+71NR0lIDrS1/Df6XSkTvp++sB9sK60J3Wkspk6SjjesZP2UbCmuu4txxf5PbcFqxSQyUoMqYC8+xRQt9yz+va+3/7XqUdV4hnKTlNnDMny9eL2J1hcN1l8nILEy6l2UbsA8Q2RGu1PAslYyiwipyw+OcPg1BxKMB5ZxXsw2O25/4CZfX+VTfAeMk3XPAtefAFvjtjgb+gu+QbjopkwK4C6SZ+C4IfPFZLeFqZnn5QwW2bDxlXDxNiYy5tA+ZspOsm/8EU+yNoC7aFmkMMtI2FADvN/HMYX4XLU77uFezzP3adedCWsBBfGW4SMBdXwCxqiyrqAVtljUgFzsqVC8vaCO4cKJOMiXBf19tytl7ODj5OGPHEVwyG33k6quWfnlpzPZOFRT7I0+xsynLLnND6n7WzhthLLpQo9uSmEekB64eLWe12/bgEDziZPN5NsxmmnKwpga8pG1pxKYXUjSAdaNSL5/kXMhhQaBf1IoqUS+52pRaaGi7tNmAE3GciCrnrhVoX2SuR+G/gb57aDcWHpoHZyiJwmjtC4j9zwNTOv22tjZTc17X9jITVWn3ZZ6BTaX2ak/CupFClmxBUiWZfF75glqDi8Z+DOrVzu1Bx57PG3DWsWyrFFtukNHsOTyrbVeX1N7Fv/tJc1AjQiHZdVrJgKTVPE07cJsZSqWKPtQXjaVDEiacLYVd2qpKFmdsUDyAy4lT9YYYHTP3KgMDE1CsoCThXnV5SokPIrsOgAO1Qg+HK2/ECNWZNPMr1QWOSOKuJg5KcpM3b/EB5ehEWCKu3oWV1PDI7LDlldy71vVsSYMcCYIhyXSe8koyclUckAVYBXcaRr7wkaCGD11VV0wvrONLTqy3bjBwb1ebh06MRak9kGuPkCz3I4p+FNZs8kie3zXWdVk85yEd3cJ+sJe0iKB49D96g0QDflbZ7P5YEI6gJ8DEbDmZFhSFTJCwhqzPV8AoS79h4SxlWUGymu6gJbziLVaSZ7y2891HQzXD2TB0FzAvaewoPWcd35TIalMNFBEtn4gzEMYNdJutNW7mWfmpg54lGjEOIFrtREIbPf2Oxk57ppOMjqnwJ60EhnXT+fJXjqYkSDEYWZ7iaXiYKTp3LafcS9m+cMCp9uKhr3AKEKWiBdMRLBis+w3t31igdGwY4TdN5BX91pKRSo6gLuFlxXQJSj9l1/lCWN5d4F/FMmdmJEJtinudfH5PW3t8Fb9PulatKaFGjaLWQFUjNTQyDIUphLouOKTkVV7lUKRaWiCGleW0aKTXcnyYE+MIQ+hmaVoaLBmsmqa05uke+X7TJENu9gBDxxEkh1Ml4+NyvUmHbfgsl0akfJLVxytlR/w9Bw1YjqRPG9qbLl4+oTNbNRUCXsWCYCBiSMTFwdDlAyL2YY+9MNahKNQVLzNfjC4bV7hf+MCvOx+FlKiv2uUOAPf21axYpp3VeIpqkXkr0MeS34lMZlhAa2hMfo9QB35V+kWFvWce52zeV+88e8T0hTH1lcCqm915UvHo5LHulKxgMqIAveDXHfjsVeotk+eDPwm6ubhpdmJft+v729ZadzlveRKSzkt9LkPK+h3KaklOSoU4+rKC5FLAFE8Cl5Q6F+tYQNOVyMJtoEclIQDYio8jprYgbFDpKOP2wboYhEDZ5ttB6g3shCkYgV1E39GbKTdxMrgt1KQO3OzgizQKhTQAQATTulYa6VSs64I0wFEeux4NdVokwOK86CKuOamRewvsmbu72E9lDcWKK0G9+bXASyrnvS8QFJ4aBor9GlmTS0Zy9V26R544LEEehhSn3bNqu8AWtmrzEjHknExaRoV0xHyUnyaXJHWUEs44Q8tkWqvCGZJQaJmn+lNadxEqba37BRJfyCZ5QRSFiGLntnyB+4GWoAQ3Jkrt6JSWxfzNQlhvv8GRti1zhho5axBTYalXE33VMsTTBJnJWNEwOIs8DRykmDLFrEVMf2r5M/sbd47ixr2qpRevAgTzR+s65DsJZ7SCiYI565ixQJ1FD43oxoqEWS4ubwt6ohXpm8/FteeVvs3fUTa3tClzlLAJ7z0OcYfDh6La79fDsbZQhgAAvZ5xj5dOqsyQP0uu4wc0HImkapCarJ3Yug/IQP5cVN1J5XErifwMrQ1jBdppWdZkz7K09/3gR9zBIFV7V6NJEcsefn7VQBU60P5YM+TNSTcokh3P60VJwuG7v5lacSMBxBH9biV4N2P+O9eWIoxXavEi50gJCAGkb1Nl0klFyInXOoK28mY6O7yrsn+9udWe4G3VFtJntxPt+bGksZ0Lu5Z3iDatKyUQoQNo/j1yCPlZVqfseQfNs+uCSqvH8nFwDSZ6UnUg2qFTDX9liHVOgmUHqwsTWs8xnCTKWOb96MhwiB2sqpsBktMAiYMOcfgXpNWcyXj4MuoZsYvZx/5VL7ziZKZdWvRhoGzxLvbNeVOVugqP3KnHyRU4k/yvBWkkaHea2Bb7ZKgC7g01Ak2fQ3F0QC+AHKCKR+5Ip6eoNP8IQA7eh3qQxUlKxfgEnYX09VAJ9+YxBlbASqWzbm+BGLrfzSrMxwdYnJ3WbA8Gz094svLkTzwqsw6RlEVUBIHav/G5Odgme39W0Lgh/x1yLqKRFfWbmJG3tkVk/9cZ6V7xndaNIB8FHM0AEZ07R38p/mBtE74mTCCcBxuMQfhupv84TIT2N65Unc0F07j4gWDeuzR5bzkKrnZiLy2AvN3Ujaw5+0iZzAWewrhxPdeXtpdKpbdgTz7kQ1HDucBVY7pSc8EmSDEajzlFwB9Gy4pWXmajGYC4+3yPjV5kyubtQX+l6pTZhl+Fr/crwMRHt50Xnp4vcmk04Ro0CLxI5fFjTNNgr6/r/MralgxMKzGXVIq92V6P7pCVbttu7jBUulB1r++4b7etwDAN2jmZu5Qb1zRdWzacLM3Zg9FZ6qqKlFMtqL+BsOzUEm/W0sag5ke5y6rwG0WPI1a7p7UhhXee/JzGdq/0Drzy/hwUlFppfS2hUe+tgIaMknl8ujcD5AKvB4SLmVlVJRNCShwvk7rrpnJJ0vGmZQMdKXmjhzKiAYHRbiE/xr8cvTTu25/jFmcgfYCfGFEpWVqwGikWqCjoY1jyjQG96eESGxg+t0cwZSByG49ohkZsv/1nWcVMG11TIjq7PyYGgjsFfLdIuTAJOWXzSFXaVOprmR0J3gIXKubWNiDBemQ4vHx9W0CUOgkdso5TRqm3qHtdJKxa+FJ2YN2TfiHdDYFYjJEBZhAkLonYTVEZZQodVP5b05Cx0lGJ0SCbzMltoQgYDjl6sFbURaehC8gQqmSdwUAB/rsaMjJyRehg3Q9Mp4bJoDcZgeLJIRL2Ar2HUaQAsDnmYxTex9XMfvPx9Xpkjr90W9BYJ4QeNNR9DlUaXGqnlRrh5/7k6g0mbGQFT4aF3IVmEVs5pt0BisLvVcV9kQQKKsYcKMcpHjkTkj0gLsrgCZN9sEH6a++xkeSLDJOZH46A7sPi5RbIC1xX0PhsyGFr11/qicvfB3RFoL4XXVgsRGSAaQIslbdaTUUWUJegQRwvqpDsNNnC+ZlEaA0Vr0e/veeZxGoaiDcbh5sqXJjjhsAGTYyEy9vmr1BKVQ7P3FsaHWJ5YFeq9RZXkQO4tZIfxS29tPuUJHUHDvebQZjPqpW13YRiZGCQlqj/qhAWO8UEhYQ4dvitWbKKyVh0izfXc+HOWAVRlrOPPomloOipaaRR0NIeTIbLJNJLCvfFgvj6NbUBVXyzS9iFPH5WoLRyPfCqGhakQsx0GSZXx19rXtiNcGgaoKf5vua6QWhHWwWiphgetaVAv1Xk9KBJJtRIqzv+mHonoBHKdDyDzuqjjL++prBaZ7dQn9vpM2v4ERMj/ovHeGmVRQgxORzKc8lI8v2np3h91ruxvej5R34Zg6NUa18IsfGAl8eKzmDReluR/iklLhNa5YSMVUG4if/h7DcfRR7pL3XWZ4SnCwLHSuPjWvfoj01cB92PdxfH0q/Hkv0LNMW9F7qHsqQlWJNUzqSJfJEtzLNvxklNjDhqvss4ebIcVcQRjKnyYw9/FJiGHrSpF2J1f9ywJ8DF4b0dKqcys6yZkx4Q9mH+C9AVYuXnmS9vecVpIuUEHWkfPAdDbpXq4cOZ24TOuM/8nX9ngt5n5S3Mf6UYbx5s61+JGrWJPj7RxFiK5ZxeJ0G0PX8JB6aQTolujFJiLP7gVQc4sUlGSlDep7LT22aMnXcqdAaz0xDL8PXxEc5ruMwDDXeTJQG3QC/2bdBUUumggeQM7gFwVkD4gfRlq2L5yZkxH96UmIloV38cH58ERd7ych2anbvyioxZ0Uruh36s1HCR8OOKsmhjI61dnkiHJyXN6wZaWrbr/ZbjohXHvrsKXErpexrqlI82I1Jte7j2Yfr7KEtwpdJZt83BlGtzW+IjmmLgvjaIcr7gmtdIq3mHOTDFXtJy2IG9kCqThK5HXz2pRNjMI5VPfQKfz0UA7tn4BCTNd7bSIKMjvrWdq3CZ5O0yxYJtCe1zGhGWpt6C0djzRzymwCTPJR2HoxP7HpGPkr5fy512pForFrgZHThYr9YUANLQNukiJFBKt7/ddEJo7bfHZhs3+ekyjiupXoLmPQsjEE/FBzq8IwX9dMF/wFvDzvV3p1hnZ4WK6OMrJNYSj7tXplIxTDGieqFR3Otilbc9sbPMXTQsRRAFX2N7uu7gIfIw84+djb0QwQg06rBYtih9jAHn7aQyRfKq6JD6qZAz5PT5yH1Sqx2+1t3Q7GKtDI2JbJcZDypwWWyY/vbXGloY1fwYJFv0kmok1TaeLxEg6tNockOUckvlGmwKaE/5qQto18UEYuR3uvnp4nIeRGM5okO5QZ4z4wR00JAHDa5j3GaKM0luYmYrt60WBM0kK0YE+J0r/v7lqdVsGe5QnUV1ZJlC15GTCNj5m/IaeKYrNfEFcfmTrXguxV8hMG7CEQROqHE+lht7wgLr6vtBVjrOxe13bXmMn60D4chjvuaOwy0KWj2WcYmgUWYYFbgeEiiPrGod5fdPIhXwU641omMPELsBotblj2LqgbKfyoyePpVKyiCAjf0xqcbi50hY5N11rijLhF4oIOGUaBPXFAIu0bdlExoiUJoxgxKz6sbw2r/LssPMclG+wkjmC7du5BLkjZub/6/btmbNJ5Ec92H5vSNfRpzKy2opbsUh52gA+V0UurvPLzXW9IvemV71ETTThsYvQEAxQnQEx5Qjhoto3dRlX4FSG6Nhm1/aqa3HUFmZGahWAhbJLmuVZvjSIZHmT8vBpdg/kfKbUIplKKzHN+GVoIi+eaNjhKcKdRpe3zFRK3qD2Tc/BedlR8YO2phgm8y8/TL9t+MbDr556qXJJR47hfX7SLvSIHhdQcMmB7roNSwzR++g+T3F/D0+uRogUsxbcb6bOStHUK9fvlPdJpMq9K8ylQDmOaLhVczwTD14l+CvCOYDa5fvvOCF8yOuhj7YdBUwlEnyPq7+ZjkvblRSuercAfHRbUYRKarfZWf1FuZgGPGkp71aCqRzfYvEwuFAdYTqdEsSG6DQ9KMv04RJAY933UCAzymTeu49kGzrnogD2BSgCb47xoCpcHqs7fv7bPpnXQlA47x6n3fkyyYD17fxstYR4DI+Ebn54kdVBvfWzPcQAqLFfXr5lV+btvl3nP7CWfjw9GngzU9WgvHnaunfYEUtz8YAYNpUq7PoZVY/gnC08NX/LnwRDkvYuAyZi7wzzbrM10ryCniPw6QyF4E9yw9VFEx3zKvflhlShFUubUM62zuildwKlDavy0yAMWZt6J9THd20nM/5u2WUVC84Mf/wjTb0mALESobhPdVKW3Ii/kHS9S8biKh03XDM5ivLUXRkhukaTad2drHOuVG6AlghuPJ/Ehso7rLI2pjYuG1P1ivgU3zHpWJLQg3fx0rrOPoUvYFOEtfecOxdQOw6edeUsCSGHNHNhwGpJnm/mUjJM5metlvtRlZsz/uj4uAly6KNisM5bvntWDI617EwzyagB7znmasm8bz24ZStghFTir12mp+Ph7omKFxd7BTFMXtvdRiaIy+2EFLVyL6GRXWnsrCAESFaKAVECudEmML6sdmB2QLLcQm7/QKrdU3kIS+KoIfN1HwZa3pzKbFSCOaIutH84KGPR/7N10SWd49AFNGhYwcTZFHvJkRHhEnbTAxwf1S3aRsn9zUSb+OMhcDBgXQgJbKI64bBs3ntCOBj5eNMK8cz9r76os03MKxARc69r8c06jPLnY0k2cdPet04eygs6gaVOiZ1+mDFoRQL7UOKrDxDZjZjAzAy5uPz4VqQtZx0PwFsX4p8HbcIsnDqQ05I1BohnahOOAUUBYRtrP9RR829bQtVyeyW6vMiaF3vP1KYr+xa3AbSgzFXd/bsDlBOKjtzCgn11URJB+9v1fUbCicoliFNFjuKt/fAl+FctfOCuTbFo00JtgWKXyc1UKDubTMY4MyJS6fDQ2VmBrQhj+mLas6+7oLBibfTQ91ItjNDl5vp1ObsuUUUrpH08a4XfZo4sTX8adktAqRWr/EMot5Z2sdpUiJB5Vg5qZ1N0myUAxib7HNn8CSChSEwyfIcsk/DBGKXNkM2BDpEQdM+vH30Nyah+tS+4Kts+Sv6OUa2IGwOQDCbsv8bJ/VdGx/Q7Oo4qOg7WgBRAkNIF2Vd6rjyFGoGhsh0SlI5qGpqQNdDaLiy3JW4eWp2VMNLuOB34z166ZMspPt2PEBOZXjP6xmVQ26dZFrXeXXqV4JLRH9clBlyxmYyTuarUdAMpj7sFT6xI0ZMu8fMixcXW9RzlXNofaPQ9bzR3Gi1FRXspceQKt4x/BlDgsW5k+60LfqbkvX5yMjZnfKApIRbxf636ucHQ0CZe1FryHchlglx9tkx0Ey29DBsSxZiI8G1eWvr+TgqVW5jruRBZaEMF2BAlBxzSOuk3OTtYuxU0li3UTPHF7t0Pm3Gcr2rvPUOp+k+2q7s3k3/riu05mqBcv7ZBhkAbzHk5td5aTXR7OB3gx9FOPR9NPtp5pWizan5f7NdbTG23aZN6bftjXW257pPf39ASgo0m/mhGKP9Nr+BUnpX73OatHMTzOvhfYhnNWLuRqqaaWQiO1PC45R91scRZBibp6kcT5FihPZ6cVqepiWfJHelpGZfhgn5M/18mNOb5PalJIP5Ym22cS+kj4xmelA4az8YjedicnG2RjTRMcA0uAl1pMSg8A7p9jNiKM7NumGA8ufYw9td50IZokVZyltlDyCiyn/v2Fdi3nMA+bViYXTB1vG6z/DUbHtvGCNhG3+B8S4OGudh224QrGNdqD8CMogTCRvNiZvnlsRwr4lEdPhQxLsGNvqCtGRRnSNWVB/y7n0ZPZLP8kZZOiT2jWEi8WIUzU6oHl8zXapZe8vgGYrj/xcI/iExz4+IDcCLTo0O6DG/zOfl29+6+X5To+Il1YpBNfmseJNy4fOQeNRjViixcY8Jn5yNrlNlVTpRYlg1kuUWw+XejbAOAPfcd2LhB+vKlfS1bs3ZIG6iunbj41f7WqcDMzmSzB73FOMjFGJVKikSCrdjf/kbcd+aTjTrXfYk5vKnFnp3grjrPacskdi+n0iQ6a88Sy2Rbj9emsks0yeoQ1ccEEklJoTrKAn2DKqZqlMhuWLhQs6LwZZFRkZlAHrr5aj4q8CEkdGCk1myhvlTiqOXyQgMsBfKhe1cJT4kjf4fDQJ+2AgE83FEEIK1S1IsBZhg6xrS4/lXZMqGcmfYeAIFByzi97y77H4OkEtj10N2JCEez17TeIioFyU0j861B8meMN3uwfM8xKGJ0yXQJAF8m16O59oXDKvUZeD5mfFw2OjPd5T3SO+yGopI1vTFxwXpJ87EFGFfHNwxfk7maSU6fFLf+dj5TLQ40jFqlHaMbOsvqvfna63KjOq60VQTki7rQ9Mzbm+CeOJ0X8nYJfqTU18jCC5hAa51/dh6jC0z3YrkIXHfK6ESaKpRMJelxGsjBRMzK4OrPW8j/XzZ5oXDcRw0/9XwPY7KGzGvWkk5c+a97HkiZsC/w7MqYeQz7/WPN4BHNh00gBIUnrh8obC/KGFHJVsLWg8RjhzMBXpXkQq7MVpQAXdhfwVrd7IOUawn4crf1bq+XmYnvzWbPcHjYe85t+/++D4fdNJEbyewCkwOd0BGxJ500Y29IQln2BuWpacOvywEacW6coOQ9XmVPwgryIlRGp/+36/1j1OzwlL+SRHmA5u+Rs1M1FwZD3tL3QumVSCEK3cauMJRpboT1gmSKUzCMS0FOKJV8Fep4w06lqs6QDBeD6sm9+/0Ulm6U0Dir7UV9MuENj8jXM8kavKPe/loOkRpkXGYMAV6S+wkzp8ZrjzAvHesuSFmGNMeANo0iqtkEO/L6E7uWSSbBe81g7+QFpPxianAJxlBw6a6gALSMkGptZnROPT45FGanK2ubO/dw8KqIbIixA76hp27JhE/LjiPjvbxzGPDuM+gyFBP6FfBt9Kwt42BrHKZDdrOOYHarzkhom6WF2Tt00JBcuv+dQ1C74K5otlAsuHXc/WnuMZ6rqdfLuY8DBPaeF5FDz9ZZvc4cIC0J3/HTZ9/vi5hsdcKWaGb4mozE0qR14/blzQe6SvqYxDVp3xqo/AWHU8TYGCsYL2dlXiJeK5dabIKmxq+cuGZ2Jo+4v7HnW8SmkHaQ4772q2U3GituFUAfHlfRspExoHTljYbtM3AK+jgteIBMhXjQ6XUSGIdGYQML4BRsuQHRBMWBGabsGobLvUY5vBGXPBFympc1Tb7pgrlPnOjDmr1MtnCEkSXcSTZ9tcpv7832QaH1rY0uVCXmDF0Cpp0YJ8lr7nHK6ngo9gly6zg5ze4UMUek5BFaqAWPZTcGCe5T8uqeCWfsD5Q6kd2fjGZNXLgDjUb8Z/C9DRyo7d3rvlsIczoC1TCiE3vBtTCFgzaDFbLLoxVAzksuV0HCFL1KoLR4nMdte3uzrB6dO4j997kquyWWgquMD355CGfi4Rs7j6TRFzLwVsJ70fHhcW7DzGgLGeXwbP/ZX8UGxeAoe2vUlz2U2+yinRpqD7ndydFDkF4sbrkDeXETjTEl6joQBPuiPkQOW6qOkg2fc0eOrgfrAztC5YtdhGl8Sxz4vHNmQz2xuy8lV2xrinz1K52kWO1qFngKAi7l9xIS/9KiG5iNkE68oJ9CUnZWXMWZCqqx8lvBcM85oX3gAupFahpXnCdex3cA1MZW4/X2SWoOCikmA8LQzuHw89mj0NXg4ez45jXDc6gXxJA1tmsPJjhLaRt9DEIsPKNwhnXDA46TUzqxyRNAVFp986m21OKNCvhY8eZDl4Qz2EoOz6Klzm+2ZyP2MxqDxj8l6ocTuOm+POzArV1k7LMHHcmEG5jXVJvA4n4SqkVcGj8AegjGpbQgIwXWu8PJD93IAu+LxBmrUTIFaj7yMR4G/FMwfz+vciz2GZy/MSenvHtMqbBNS2bljUzfSF6DzRcdWAyMomXXW6f5pvz4swviEvSUdySTSv8fsM9UwbaF1UVGOXBFfGqMg/FPRp1lyeVFfWkljhX1wRcDVpXFe+GniEa7mc+m4BJOjx6uECYH4rlsQFGK+69v4/miHKc6oQGGBoBsvBb48eaDcKmANvEMfULGPvBJncH2nDtaFeB/A5AIbF2odCB1rZFsJuyHN7i+SrciMhIZACpOqPB6Obvx2htbqwAWOd8X//MQ5fdjnMCc1lEwcyNwcDeLw8+7pZ53ruPPru1sDNmcXe0kQwia7T4fyfAmioSH6nYQM0qpSZr5v2NCW7B2asSxL16E9q3xfRUuLiiAjPMV59xNUKaHgccqZvqYMR/gKStMwEQtQ5QtUejnTmKJAPoVe2fBQPLnnpipuBRXrpWXsxFi06C4JyrZBs/iFXDSjDDs/JSi4JFYyGQf0iAW5fISafbZllXTs6MnaCObtJFgTaMf8TESjtG7J5hV/6dBZHRoZfdEhvRtjrLqtVtJGxqlWU6pSvL4RaqnSUF/WtzHc4W8jsM7+BHVsb1g4vfAZwfGoea8u1i8fTTIoXvaVXhxe26pBkIx07Nsb22ZUEMf1sGpXJcIdF1emk7/tgI+Ro2/jdcl3Hh2wKYX9MvO76SIYmZi5kGeKFlSwzcVaZC8Tqq6iMtQfGQd4MmTh8rgIYJSCSF6Pm0YNf6IKMOVFMbink8Cf4KBeQbrvSfYuMsIcsNpjUT2K3MTz77X29xPV3HC7yb3N1nETlXvvcC9fAmC1N1k5IuOkqSDyYLR26sdmlX+JyhTNO+yQ8do76LDlrkC4bDyB00X6c6nIGSYEGZ0rw0gqYUWEoEK3t7FH4XxHnfcbRn4wqUhUrrRNcXKdmlLmzHwZCcYW9Zk9iygltwF9x2ORcK+dwz370Dxv+SLNlycH+9P9xs+OclmioLDqd3sHZ0n4E8fKXq4oyGEfYVQ6F4PKqBzmeo8d5ktQHHz8O3ZZDSl7AQdYzPC9tnT46MwvlxyazFvToPvpoLCtPE24EwCUcHrKzXLBqel3WBCvPJfznBcCi/Z1IxuJ85yjlLEbjc3OFWhqsP9NwHd5qxSWNU8HlCuhKTzuCddLZ1k+ma1HcghSiF2WHgY1Xs8hM3yB1y80Fqi1728fo/5iiDzDQ3hRx2AWSYpvJOEZnaqljTDz2PiXCjXxrd3shvdTOt+PeCqfkNVVSu9Va1wLAX9yOUVlAABlDJLqSWAjjtgGal03F9R6B0wAyQ9iqCs67i9qcB73JNH/WKPel8xwPgIJUR/D+0rONsXzUHxPvCyMXWsV8YjIJunCYAzchch43GTNlYgQV5LQBtA0WEKG8HbRyVQ/uC1d8ZlexL0mG7ZrfVEgYYoRkPcN0kODGlwoKGJ5KlXTmcaYLoeD63mCkzxD3K4TGo+7Ymz3bud/oSD6ULtESgT7e9poOe2/WVYtL8zaaEsJL2ZaTWQxKMBX/xi5wQDl+rpch2SW43+08LmF76BGO5dONKaL/XJU2Lmd80pMenLeiB79Sji6UdfxNRAFmCkrKOwPDt+E+DkcA7OA1V2iJi5x2+5QghDsSQnvr2JlmT6Wb4OwwXRbffJRBKDKEU2U1SEf9Jn4Vz6MgTKaGesY3+Mfg4eJym1qSOaHQqWh6ifyM0BO+cC+u+hbQ1W3fqOBakgPIIXo9LFWfU1/3jO5mDYm/4O3RDe7eLngB0YZ7is8clkQsfgxuH662UnhYCcJDbPlpyLYersvkFY2n4V196ZxBTWt8qIAvTu6V8XIq5P9FUHFckel5pE5lAYYvspM2vjPaGd2uNd5lASjlUd7LHMi3j16joOTlAapMN689B0MkJEVYN3omG8qc9Oj2vykbfKjjR9s/KKoVBk1v4KO16TL7unWWsXyVFozS/lvx3kj1effJn55ofcMckKwbZV48nknZ+fQsdJIKK1wqKx5QepGEpiIzldM60vnZ6ErV56S3pYRIf6O+kAIMIPidfBoV1uH2kNz5T82kyz6blWmaU2eQWKQ2QgjJ4rY6ZNkvGvnXoQxN3bSTfYxg/HuYJYtECbFntP/fqQpooC7srhLG4Rqglok390dk4QqC2aNtZN7pmxRJTJIm/fqE+SZbbLXjmI1XQSz9PGcAVCdQgVScPMbU+gIE9LzUSJeooKO8NfO2wkV08XxJCSpHn5DvlW2NpGvZLUuIf6gIktbjEikqJi3LS5uHppDDS/oTd7Gct5jgZoPxQryTGyPiQO1zb3nbHrSrciuQtirNlYyLTuibTXTXesvUrHcn3AYVHXuOoNy324FVL9q/VFQoFSv+1hUSxZSiksj0Yos+RU66QhR6kXW7A0alP5d4dUCGN33i4n/kBLesgqo6BPVr5N1alaCUGfP0KuSmJ1BRDc2ijXD2zprf4XJKi0ns5QjZBRffn6VQjqOUCXY7zEnL+TtVA4PtLEx2bOmNV21YIOiiFFQuNdWsUvsgAyBIz2BJHHaYkbP9B1SCD31kQjVX+pZEYWgG5zkQlgjm2bKt02gZpEQe+t8AP3BzhP12kACE4vxrmaXCjDoeRHkW5Z4axCeVVRa7aa6N0TH+PxcOw0bc3oTtQsv7YJ9Rz7UZGJHBRV18TxOI81omuSKNUWQLMHBA4irNwLeXTZr6GD22DViFNsMhqwQZdBnELd0/Yh6rkjDcPjAmSQVgZGjQ7nRhbbgV3pkGzZ/syE7cKa/lCEQn/3FvPix+ZfpQJA2QwXlUKl+SJBDrqCUMnnbzXBKM5XHv0e1pPJAbmlcs+QQ2SwkriognQV5Fo5EU/q2F0ZokOmkH6SYvh7eT8EX2S6PHfyWIiCNq6RFxnb26yV3hPxIxogCUmQO/+nscrNd1Tu8ysgo9da/hRP4vmkIYZFTViY220y8T0MDKASjtm1inL3SeVgs5pszhUjv8WdD+TdyToKs7nr2xf/dgfpZt/Q1Zzp+ppqHh3seRLc6jH80U76g0kDjzDAdSiLLS8f8ulp2YwUy/h5IL0I1Z4ZW2gb7DBMV55WJd7hEkOHSW60zd18l9lW36Wd7thZwLW9DiEawhJz5ptinbocHzStjhQ8lKDTpPnBBxOMSAaWytzy7sT6EebUn7HeMGPdvZlVE/CHXZjVTSEPIAp+k1aNzfXpfzhZI8HMv4cdWdXRRWHZa+5s+r3qdAVLYOGnjjgWhMrdWqNVv3EZ1yx+eZYohQf+Diucqt6F+WY7yHitU3gqFnXuAB+owMD44qcZVT2cCRMqNZEIU0c+licxJmRhD9/kf4GsxuXxEBXDY4swopS1+OTHZkYfk6/morFnRcP779mFCUeAd+fpUrK/vvKtpGl2q++r9g0eiKOO//a+rWm7JIvdZIEliFEl0EKoExx0idlxY8nS3GiJSgiCBjdkzHUr3AN8nLr3j//07vWWHsNyNN/SiPFbMbSiMVyf6TSmVIyqU9S/8ZQanw0aOR0Mftr1ZlWXlJ7/2suZf1SP58OOsdKUCxEFUo/zTZjqeOh32ThJilSrNUgGNQudlFsdEP+2PW5iBwKofZGac6AQvpsRCGLysQeW8J9nPwmLGGjLLdGt0aVAKc6s+RPCa4n8gAQZ1TntqwSTdPJoEV/T36pI3OV7UBXha7BkJAD94KvH88a0HpD8C5glnfyvvW1l9GdpgZRq6BNrYBWSAipDpFSZV5k8QzIShVH46A/THaj3XUI/UAaQToztH7BZdmknEJBDZPvpv1Mc6X3yLf0NWMLlcipAiBRKsHJT/h/CImxk5kHHU6Eqd7Q6I/xu1v2ly/FcUH18pmQh/NmpP6309jVHfRQAD7q72e84UMuOfUpfnmP4Pg5R2dkynCKv6ldJRIpnzCqHiildSKd1wUwKf3MmbLXwYdDG241fMJ2ZNTBGOKH1VjD6VlZ4s9kIP2Y8xObsmrqbDIhRJa72y8KHUHHcBBOAaPrB446mk9m4haC5wnVPUw/jSeEgO7rNhfVSaUxCbCsTDsFLry1BElmVHAaD+bhNq3HxMCyxH/oXw/XwqA6yLPoa5CgNCoOQ7GKhPTJGkoSB4v7cn+JtQI/wGSFH/hYTley98NdN3C/yI7VL8aVKicg5CVUudzmyGEY7vEGjpBosNEQOufSU0qIEGsa8jUXLQmmJp1460sGQGjIESrfl913gIqNQeBPrnzZ1UKy7Dkl3ZamZTXWvdMNsyDjX5TWrbMRhurEIZF0cPnOWyGpLy9W4eDDPdSdZplBJJaYCxG2/lSpPiNM8pBoraJsXyQUAR5vHsXgOokON4qveCPJ1zvPd45W94g1WiZrwBfou+KTrLilIuU6vpn4Uq9NizMbsBEOKTZ9BZ9yEx64CvfAkjckaSDSU54uZYMFAKHKoWmlBI6p4wm5QdkRmFyhQSd3csv2B8VpoyfS1CMEa0MBs294pP9b+l3dGWVNcPsVGv2yyacRH1vZPPBQvsHfTZMtgX6+1Ud+E1qSJUYwjJcMQUxjB0jo5GVZkDQW4FIvtWZmgAestsHHf+7jqLrugu1UsK6VIxwV45lJ+T/3McSVKUo2ukkMqW+d83LDL8HiFhvwkKVyzBETDmMg6NMsokqSqx9W8kPk5PtZbsBfrdl2yJeBHfq7vqWxjM3+qZOJRIh5OM3NeUsF3amJ411sd1WB/9aBc3EU++1FJttHa9otmS7lQghzyjGoxXMKe8kuCnAwCs70CzB+OrvdJ/E8iixoXZLEfkwv9WcIJkP3+Iu1KkSBhwgrvXErtKAd42c7dB54nDJmOXTnyIiAcsXmZLNrtNym8ioB/Rf0xww3kBaAIA1Lx6YAuhM3gt8hmmTUK+GRDPqFH0PlnlNlG2EAYYLEVUTU1heeEZcmGKFGKsYShW0y2WWkoxUEJtLP1nmXq2YJUBtTfOxtuFNRZJCIiaaXkXk2fv7pFDehVCrT0bZoxrkAvSe0SwVRlg7sbFL2XJazWVfWkFfLbpDO7Q38x3D0NClfvUTakhZ3/eWHXoVyY91R5QjlnEDfn/sGFW/e+y2anh9c/zFa0SjtfEDxdy/tqoeXZl7XR11JEUya02IUY8SAcDJLJWL4dWIx92zvAiPq9BRmlwrzHncE1xxicSjjanGaX527Ug6f1U7JvxVW+xr4uo7sLcrzF6MS0ZEjhuHzmZ9hv+x4SnLUlxCJGVi/j5id+dmymsZPSwLN7/dNqP+DCpCXxgAEKJbqT6bX5XP8NIfhrh2WkVGStaAtopkrTxCJ6AkuxynL3557rn/tW1rBnchbX0c+5RNT3kNYAghv8wwIzK0CCZWgLB1Z795BmHdZaS1kYcE5fJdgzSuSD+TaaI4/Z1zLpmYe54IlRpgRhL4zuRRjn0MpZEtfhbgGVYqM5nD566+O4A9CHBJY6d2L73I765jS9Xu+obXp995ujrRjCEVxLWZXkfFc267jvZJtH2FSgx+DxdUtfQ15dsTSKRyFAnYNFhRuNyrVyGptyv6HR1iH2TLhIALYhnTBUIB7fv2Fwcd1FLDNNPkWt+Rn3n8z3pNa5LrhymPddKnWLHGgrF365uBwSi4I0FZGTG9LYta+X/bGBOUp3Yy9+GDVJv78VEYUBQyeiTa7lDvusw5szEMt4emwy1hKZUWx3lDqqyrcbK6JkNHNnMjwBJc4shb1SKtnchcUKb0433dnPQ7PdF+RyUxY/qsZVQLmBNMYtE4ywhnvgNVpdUOA1AUzuk0bNi4kG6YIXJbJtk09CKU3fZ6HnXHgc6aFXOXfnSarsyBVEV/VfZpkfeE88679kcmXtMCt7BdBGNa5uUFHtipsK9XoCXv5/lXcyFadlvI6oJ3FWE2ytMKyJSNbeGRb12ga8MuPuddE6ZMQGDVPPnMfL2lLxFWCgo6xlx1vO/ORBPoGeBNVtNHH4Aiuj0hkdXJdOyZxpGeD4SBjd8gAAAAADPKX5GBO/cCfIb5bdBtfcv+Fpy0cPeFZDGEMlQZSeQ3nrExDfos+UFaJD87RQ2QL40f3LD1YkWP+JUJ3T+QCNZMUEvJPYvGciM0i/UgYPPwPw0KTDuYS94qWpdt5Sq98LTCreQxvs/YVIdWjJ0TbepxqNNfpFqXZJQjbCGgYik8B01GDqVlquYgpEah2sqUfJgSjMWS2a16EgnrJjYtOwnV8JKrh1jG3IraY7x1joM+NfGI1yy5p9LirZhFrEoaoN+bjlkCxlDOnE3GpHkzAAvCUGZvs+fs+nuqusih24WUwM4iiCFcE5GsCfoxkcGCsTNgSwn6F4VK1M9MdOxvMrOWaa/DIHjgb/skRVdHLCFzvj1457zubsooEorzxEK16ISLpf24kQItU8CGy3M+Q/fuD1BtkZVBVmAtWupzcLi/8pEzQgAAAbAACbgjFqqXO/aJGxceyOVJ4OmnB3koFeWvaDuiAcgQqHbCO02rCEDi2qY5kWkcqggKA+vxu0PywqozlqTpgY0V386XuekW97SpHhwYZb3agEsX0JxXJdLLZF3eBpwtFC8XsYERia0P+ZH59w2SAVm/dIiA/INdIK5OgElzc4C1WUIAAAA==)"
      ],
      "metadata": {
        "id": "FEZGsHgw-vu-"
      }
    },
    {
      "cell_type": "markdown",
      "source": [
        "The Nobel Foundation has made a dataset available of all prize winners from the outset of the awards from 1901 to 2023. The dataset used in this project is from the Nobel Prize API and is available in the nobel.csv file in the data folder.\n",
        "\n",
        "In this project, I will analyze Nobel Prize winner data and identify patterns by answering the following questions:\n",
        "\n",
        "1- What is the most commonly awarded gender and birth country?\n",
        "\n",
        "2- Which decade had the highest ratio of US born Nobel Prize winners to total winners in all categories?\n",
        "\n",
        "3- Which decade and Nobel Prize category combination had the highest proportion of female laureates?\n",
        "\n",
        "4- Which individuals or organizations have won more than one Nobel Prize throughout the years?"
      ],
      "metadata": {
        "id": "UZnU3FVs-VO3"
      }
    },
    {
      "cell_type": "code",
      "execution_count": 195,
      "metadata": {
        "id": "AtHIAJ3SZLFB"
      },
      "outputs": [],
      "source": [
        "# Loading in needed libraries\n",
        "import pandas as pd\n",
        "import seaborn as sns\n",
        "import numpy as np\n",
        "import matplotlib.pyplot as plt"
      ]
    },
    {
      "cell_type": "code",
      "source": [
        "nobel = pd.read_csv('/content/drive/MyDrive/nobel.csv')"
      ],
      "metadata": {
        "id": "x_RRDHzQj84R"
      },
      "execution_count": 196,
      "outputs": []
    },
    {
      "cell_type": "code",
      "source": [
        "nobel.head()"
      ],
      "metadata": {
        "colab": {
          "base_uri": "https://localhost:8080/",
          "height": 504
        },
        "id": "AiYycKYyopOW",
        "outputId": "ba8f5516-14dc-4e3f-a784-fe0d1485ba7f"
      },
      "execution_count": 197,
      "outputs": [
        {
          "output_type": "execute_result",
          "data": {
            "text/plain": [
              "   year    category                                           prize  \\\n",
              "0  1901   Chemistry               The Nobel Prize in Chemistry 1901   \n",
              "1  1901  Literature              The Nobel Prize in Literature 1901   \n",
              "2  1901    Medicine  The Nobel Prize in Physiology or Medicine 1901   \n",
              "3  1901       Peace                      The Nobel Peace Prize 1901   \n",
              "4  1901       Peace                      The Nobel Peace Prize 1901   \n",
              "\n",
              "                                          motivation prize_share  laureate_id  \\\n",
              "0  \"in recognition of the extraordinary services ...         1/1          160   \n",
              "1  \"in special recognition of his poetic composit...         1/1          569   \n",
              "2  \"for his work on serum therapy, especially its...         1/1          293   \n",
              "3                                                NaN         1/2          462   \n",
              "4                                                NaN         1/2          463   \n",
              "\n",
              "  laureate_type                     full_name  birth_date         birth_city  \\\n",
              "0    Individual  Jacobus Henricus van 't Hoff  1852-08-30          Rotterdam   \n",
              "1    Individual               Sully Prudhomme  1839-03-16              Paris   \n",
              "2    Individual        Emil Adolf von Behring  1854-03-15  Hansdorf (Lawice)   \n",
              "3    Individual             Jean Henry Dunant  1828-05-08             Geneva   \n",
              "4    Individual                Frédéric Passy  1822-05-20              Paris   \n",
              "\n",
              "      birth_country   sex   organization_name organization_city  \\\n",
              "0       Netherlands  Male   Berlin University            Berlin   \n",
              "1            France  Male                 NaN               NaN   \n",
              "2  Prussia (Poland)  Male  Marburg University           Marburg   \n",
              "3       Switzerland  Male                 NaN               NaN   \n",
              "4            France  Male                 NaN               NaN   \n",
              "\n",
              "  organization_country  death_date death_city death_country  \n",
              "0              Germany  1911-03-01     Berlin       Germany  \n",
              "1                  NaN  1907-09-07   Châtenay        France  \n",
              "2              Germany  1917-03-31    Marburg       Germany  \n",
              "3                  NaN  1910-10-30     Heiden   Switzerland  \n",
              "4                  NaN  1912-06-12      Paris        France  "
            ],
            "text/html": [
              "\n",
              "  <div id=\"df-2d3847c0-abbe-4e1d-ae4b-3116b737763a\" class=\"colab-df-container\">\n",
              "    <div>\n",
              "<style scoped>\n",
              "    .dataframe tbody tr th:only-of-type {\n",
              "        vertical-align: middle;\n",
              "    }\n",
              "\n",
              "    .dataframe tbody tr th {\n",
              "        vertical-align: top;\n",
              "    }\n",
              "\n",
              "    .dataframe thead th {\n",
              "        text-align: right;\n",
              "    }\n",
              "</style>\n",
              "<table border=\"1\" class=\"dataframe\">\n",
              "  <thead>\n",
              "    <tr style=\"text-align: right;\">\n",
              "      <th></th>\n",
              "      <th>year</th>\n",
              "      <th>category</th>\n",
              "      <th>prize</th>\n",
              "      <th>motivation</th>\n",
              "      <th>prize_share</th>\n",
              "      <th>laureate_id</th>\n",
              "      <th>laureate_type</th>\n",
              "      <th>full_name</th>\n",
              "      <th>birth_date</th>\n",
              "      <th>birth_city</th>\n",
              "      <th>birth_country</th>\n",
              "      <th>sex</th>\n",
              "      <th>organization_name</th>\n",
              "      <th>organization_city</th>\n",
              "      <th>organization_country</th>\n",
              "      <th>death_date</th>\n",
              "      <th>death_city</th>\n",
              "      <th>death_country</th>\n",
              "    </tr>\n",
              "  </thead>\n",
              "  <tbody>\n",
              "    <tr>\n",
              "      <th>0</th>\n",
              "      <td>1901</td>\n",
              "      <td>Chemistry</td>\n",
              "      <td>The Nobel Prize in Chemistry 1901</td>\n",
              "      <td>\"in recognition of the extraordinary services ...</td>\n",
              "      <td>1/1</td>\n",
              "      <td>160</td>\n",
              "      <td>Individual</td>\n",
              "      <td>Jacobus Henricus van 't Hoff</td>\n",
              "      <td>1852-08-30</td>\n",
              "      <td>Rotterdam</td>\n",
              "      <td>Netherlands</td>\n",
              "      <td>Male</td>\n",
              "      <td>Berlin University</td>\n",
              "      <td>Berlin</td>\n",
              "      <td>Germany</td>\n",
              "      <td>1911-03-01</td>\n",
              "      <td>Berlin</td>\n",
              "      <td>Germany</td>\n",
              "    </tr>\n",
              "    <tr>\n",
              "      <th>1</th>\n",
              "      <td>1901</td>\n",
              "      <td>Literature</td>\n",
              "      <td>The Nobel Prize in Literature 1901</td>\n",
              "      <td>\"in special recognition of his poetic composit...</td>\n",
              "      <td>1/1</td>\n",
              "      <td>569</td>\n",
              "      <td>Individual</td>\n",
              "      <td>Sully Prudhomme</td>\n",
              "      <td>1839-03-16</td>\n",
              "      <td>Paris</td>\n",
              "      <td>France</td>\n",
              "      <td>Male</td>\n",
              "      <td>NaN</td>\n",
              "      <td>NaN</td>\n",
              "      <td>NaN</td>\n",
              "      <td>1907-09-07</td>\n",
              "      <td>Châtenay</td>\n",
              "      <td>France</td>\n",
              "    </tr>\n",
              "    <tr>\n",
              "      <th>2</th>\n",
              "      <td>1901</td>\n",
              "      <td>Medicine</td>\n",
              "      <td>The Nobel Prize in Physiology or Medicine 1901</td>\n",
              "      <td>\"for his work on serum therapy, especially its...</td>\n",
              "      <td>1/1</td>\n",
              "      <td>293</td>\n",
              "      <td>Individual</td>\n",
              "      <td>Emil Adolf von Behring</td>\n",
              "      <td>1854-03-15</td>\n",
              "      <td>Hansdorf (Lawice)</td>\n",
              "      <td>Prussia (Poland)</td>\n",
              "      <td>Male</td>\n",
              "      <td>Marburg University</td>\n",
              "      <td>Marburg</td>\n",
              "      <td>Germany</td>\n",
              "      <td>1917-03-31</td>\n",
              "      <td>Marburg</td>\n",
              "      <td>Germany</td>\n",
              "    </tr>\n",
              "    <tr>\n",
              "      <th>3</th>\n",
              "      <td>1901</td>\n",
              "      <td>Peace</td>\n",
              "      <td>The Nobel Peace Prize 1901</td>\n",
              "      <td>NaN</td>\n",
              "      <td>1/2</td>\n",
              "      <td>462</td>\n",
              "      <td>Individual</td>\n",
              "      <td>Jean Henry Dunant</td>\n",
              "      <td>1828-05-08</td>\n",
              "      <td>Geneva</td>\n",
              "      <td>Switzerland</td>\n",
              "      <td>Male</td>\n",
              "      <td>NaN</td>\n",
              "      <td>NaN</td>\n",
              "      <td>NaN</td>\n",
              "      <td>1910-10-30</td>\n",
              "      <td>Heiden</td>\n",
              "      <td>Switzerland</td>\n",
              "    </tr>\n",
              "    <tr>\n",
              "      <th>4</th>\n",
              "      <td>1901</td>\n",
              "      <td>Peace</td>\n",
              "      <td>The Nobel Peace Prize 1901</td>\n",
              "      <td>NaN</td>\n",
              "      <td>1/2</td>\n",
              "      <td>463</td>\n",
              "      <td>Individual</td>\n",
              "      <td>Frédéric Passy</td>\n",
              "      <td>1822-05-20</td>\n",
              "      <td>Paris</td>\n",
              "      <td>France</td>\n",
              "      <td>Male</td>\n",
              "      <td>NaN</td>\n",
              "      <td>NaN</td>\n",
              "      <td>NaN</td>\n",
              "      <td>1912-06-12</td>\n",
              "      <td>Paris</td>\n",
              "      <td>France</td>\n",
              "    </tr>\n",
              "  </tbody>\n",
              "</table>\n",
              "</div>\n",
              "    <div class=\"colab-df-buttons\">\n",
              "\n",
              "  <div class=\"colab-df-container\">\n",
              "    <button class=\"colab-df-convert\" onclick=\"convertToInteractive('df-2d3847c0-abbe-4e1d-ae4b-3116b737763a')\"\n",
              "            title=\"Convert this dataframe to an interactive table.\"\n",
              "            style=\"display:none;\">\n",
              "\n",
              "  <svg xmlns=\"http://www.w3.org/2000/svg\" height=\"24px\" viewBox=\"0 -960 960 960\">\n",
              "    <path d=\"M120-120v-720h720v720H120Zm60-500h600v-160H180v160Zm220 220h160v-160H400v160Zm0 220h160v-160H400v160ZM180-400h160v-160H180v160Zm440 0h160v-160H620v160ZM180-180h160v-160H180v160Zm440 0h160v-160H620v160Z\"/>\n",
              "  </svg>\n",
              "    </button>\n",
              "\n",
              "  <style>\n",
              "    .colab-df-container {\n",
              "      display:flex;\n",
              "      gap: 12px;\n",
              "    }\n",
              "\n",
              "    .colab-df-convert {\n",
              "      background-color: #E8F0FE;\n",
              "      border: none;\n",
              "      border-radius: 50%;\n",
              "      cursor: pointer;\n",
              "      display: none;\n",
              "      fill: #1967D2;\n",
              "      height: 32px;\n",
              "      padding: 0 0 0 0;\n",
              "      width: 32px;\n",
              "    }\n",
              "\n",
              "    .colab-df-convert:hover {\n",
              "      background-color: #E2EBFA;\n",
              "      box-shadow: 0px 1px 2px rgba(60, 64, 67, 0.3), 0px 1px 3px 1px rgba(60, 64, 67, 0.15);\n",
              "      fill: #174EA6;\n",
              "    }\n",
              "\n",
              "    .colab-df-buttons div {\n",
              "      margin-bottom: 4px;\n",
              "    }\n",
              "\n",
              "    [theme=dark] .colab-df-convert {\n",
              "      background-color: #3B4455;\n",
              "      fill: #D2E3FC;\n",
              "    }\n",
              "\n",
              "    [theme=dark] .colab-df-convert:hover {\n",
              "      background-color: #434B5C;\n",
              "      box-shadow: 0px 1px 3px 1px rgba(0, 0, 0, 0.15);\n",
              "      filter: drop-shadow(0px 1px 2px rgba(0, 0, 0, 0.3));\n",
              "      fill: #FFFFFF;\n",
              "    }\n",
              "  </style>\n",
              "\n",
              "    <script>\n",
              "      const buttonEl =\n",
              "        document.querySelector('#df-2d3847c0-abbe-4e1d-ae4b-3116b737763a button.colab-df-convert');\n",
              "      buttonEl.style.display =\n",
              "        google.colab.kernel.accessAllowed ? 'block' : 'none';\n",
              "\n",
              "      async function convertToInteractive(key) {\n",
              "        const element = document.querySelector('#df-2d3847c0-abbe-4e1d-ae4b-3116b737763a');\n",
              "        const dataTable =\n",
              "          await google.colab.kernel.invokeFunction('convertToInteractive',\n",
              "                                                    [key], {});\n",
              "        if (!dataTable) return;\n",
              "\n",
              "        const docLinkHtml = 'Like what you see? Visit the ' +\n",
              "          '<a target=\"_blank\" href=https://colab.research.google.com/notebooks/data_table.ipynb>data table notebook</a>'\n",
              "          + ' to learn more about interactive tables.';\n",
              "        element.innerHTML = '';\n",
              "        dataTable['output_type'] = 'display_data';\n",
              "        await google.colab.output.renderOutput(dataTable, element);\n",
              "        const docLink = document.createElement('div');\n",
              "        docLink.innerHTML = docLinkHtml;\n",
              "        element.appendChild(docLink);\n",
              "      }\n",
              "    </script>\n",
              "  </div>\n",
              "\n",
              "\n",
              "<div id=\"df-f5f68116-43c1-433d-8b38-36ed82231f60\">\n",
              "  <button class=\"colab-df-quickchart\" onclick=\"quickchart('df-f5f68116-43c1-433d-8b38-36ed82231f60')\"\n",
              "            title=\"Suggest charts\"\n",
              "            style=\"display:none;\">\n",
              "\n",
              "<svg xmlns=\"http://www.w3.org/2000/svg\" height=\"24px\"viewBox=\"0 0 24 24\"\n",
              "     width=\"24px\">\n",
              "    <g>\n",
              "        <path d=\"M19 3H5c-1.1 0-2 .9-2 2v14c0 1.1.9 2 2 2h14c1.1 0 2-.9 2-2V5c0-1.1-.9-2-2-2zM9 17H7v-7h2v7zm4 0h-2V7h2v10zm4 0h-2v-4h2v4z\"/>\n",
              "    </g>\n",
              "</svg>\n",
              "  </button>\n",
              "\n",
              "<style>\n",
              "  .colab-df-quickchart {\n",
              "      --bg-color: #E8F0FE;\n",
              "      --fill-color: #1967D2;\n",
              "      --hover-bg-color: #E2EBFA;\n",
              "      --hover-fill-color: #174EA6;\n",
              "      --disabled-fill-color: #AAA;\n",
              "      --disabled-bg-color: #DDD;\n",
              "  }\n",
              "\n",
              "  [theme=dark] .colab-df-quickchart {\n",
              "      --bg-color: #3B4455;\n",
              "      --fill-color: #D2E3FC;\n",
              "      --hover-bg-color: #434B5C;\n",
              "      --hover-fill-color: #FFFFFF;\n",
              "      --disabled-bg-color: #3B4455;\n",
              "      --disabled-fill-color: #666;\n",
              "  }\n",
              "\n",
              "  .colab-df-quickchart {\n",
              "    background-color: var(--bg-color);\n",
              "    border: none;\n",
              "    border-radius: 50%;\n",
              "    cursor: pointer;\n",
              "    display: none;\n",
              "    fill: var(--fill-color);\n",
              "    height: 32px;\n",
              "    padding: 0;\n",
              "    width: 32px;\n",
              "  }\n",
              "\n",
              "  .colab-df-quickchart:hover {\n",
              "    background-color: var(--hover-bg-color);\n",
              "    box-shadow: 0 1px 2px rgba(60, 64, 67, 0.3), 0 1px 3px 1px rgba(60, 64, 67, 0.15);\n",
              "    fill: var(--button-hover-fill-color);\n",
              "  }\n",
              "\n",
              "  .colab-df-quickchart-complete:disabled,\n",
              "  .colab-df-quickchart-complete:disabled:hover {\n",
              "    background-color: var(--disabled-bg-color);\n",
              "    fill: var(--disabled-fill-color);\n",
              "    box-shadow: none;\n",
              "  }\n",
              "\n",
              "  .colab-df-spinner {\n",
              "    border: 2px solid var(--fill-color);\n",
              "    border-color: transparent;\n",
              "    border-bottom-color: var(--fill-color);\n",
              "    animation:\n",
              "      spin 1s steps(1) infinite;\n",
              "  }\n",
              "\n",
              "  @keyframes spin {\n",
              "    0% {\n",
              "      border-color: transparent;\n",
              "      border-bottom-color: var(--fill-color);\n",
              "      border-left-color: var(--fill-color);\n",
              "    }\n",
              "    20% {\n",
              "      border-color: transparent;\n",
              "      border-left-color: var(--fill-color);\n",
              "      border-top-color: var(--fill-color);\n",
              "    }\n",
              "    30% {\n",
              "      border-color: transparent;\n",
              "      border-left-color: var(--fill-color);\n",
              "      border-top-color: var(--fill-color);\n",
              "      border-right-color: var(--fill-color);\n",
              "    }\n",
              "    40% {\n",
              "      border-color: transparent;\n",
              "      border-right-color: var(--fill-color);\n",
              "      border-top-color: var(--fill-color);\n",
              "    }\n",
              "    60% {\n",
              "      border-color: transparent;\n",
              "      border-right-color: var(--fill-color);\n",
              "    }\n",
              "    80% {\n",
              "      border-color: transparent;\n",
              "      border-right-color: var(--fill-color);\n",
              "      border-bottom-color: var(--fill-color);\n",
              "    }\n",
              "    90% {\n",
              "      border-color: transparent;\n",
              "      border-bottom-color: var(--fill-color);\n",
              "    }\n",
              "  }\n",
              "</style>\n",
              "\n",
              "  <script>\n",
              "    async function quickchart(key) {\n",
              "      const quickchartButtonEl =\n",
              "        document.querySelector('#' + key + ' button');\n",
              "      quickchartButtonEl.disabled = true;  // To prevent multiple clicks.\n",
              "      quickchartButtonEl.classList.add('colab-df-spinner');\n",
              "      try {\n",
              "        const charts = await google.colab.kernel.invokeFunction(\n",
              "            'suggestCharts', [key], {});\n",
              "      } catch (error) {\n",
              "        console.error('Error during call to suggestCharts:', error);\n",
              "      }\n",
              "      quickchartButtonEl.classList.remove('colab-df-spinner');\n",
              "      quickchartButtonEl.classList.add('colab-df-quickchart-complete');\n",
              "    }\n",
              "    (() => {\n",
              "      let quickchartButtonEl =\n",
              "        document.querySelector('#df-f5f68116-43c1-433d-8b38-36ed82231f60 button');\n",
              "      quickchartButtonEl.style.display =\n",
              "        google.colab.kernel.accessAllowed ? 'block' : 'none';\n",
              "    })();\n",
              "  </script>\n",
              "</div>\n",
              "\n",
              "    </div>\n",
              "  </div>\n"
            ],
            "application/vnd.google.colaboratory.intrinsic+json": {
              "type": "dataframe",
              "variable_name": "nobel",
              "summary": "{\n  \"name\": \"nobel\",\n  \"rows\": 1000,\n  \"fields\": [\n    {\n      \"column\": \"year\",\n      \"properties\": {\n        \"dtype\": \"number\",\n        \"std\": 34,\n        \"min\": 1901,\n        \"max\": 2023,\n        \"num_unique_values\": 120,\n        \"samples\": [\n          1948,\n          1951,\n          1905\n        ],\n        \"semantic_type\": \"\",\n        \"description\": \"\"\n      }\n    },\n    {\n      \"column\": \"category\",\n      \"properties\": {\n        \"dtype\": \"category\",\n        \"num_unique_values\": 6,\n        \"samples\": [\n          \"Chemistry\",\n          \"Literature\",\n          \"Economics\"\n        ],\n        \"semantic_type\": \"\",\n        \"description\": \"\"\n      }\n    },\n    {\n      \"column\": \"prize\",\n      \"properties\": {\n        \"dtype\": \"string\",\n        \"num_unique_values\": 621,\n        \"samples\": [\n          \"The Nobel Prize in Physics 1910\",\n          \"The Sveriges Riksbank Prize in Economic Sciences 2017\",\n          \"The Nobel Prize in Literature 1920\"\n        ],\n        \"semantic_type\": \"\",\n        \"description\": \"\"\n      }\n    },\n    {\n      \"column\": \"motivation\",\n      \"properties\": {\n        \"dtype\": \"string\",\n        \"num_unique_values\": 615,\n        \"samples\": [\n          \"\\\"for their discoveries concerning genetic control of enzyme and virus synthesis\\\"\",\n          \"\\\"for their design of the scanning tunneling microscope\\\"\",\n          \"\\\"for his discovery of Prions - a new biological principle of infection\\\"\"\n        ],\n        \"semantic_type\": \"\",\n        \"description\": \"\"\n      }\n    },\n    {\n      \"column\": \"prize_share\",\n      \"properties\": {\n        \"dtype\": \"category\",\n        \"num_unique_values\": 4,\n        \"samples\": [\n          \"1/2\",\n          \"1/3\",\n          \"1/1\"\n        ],\n        \"semantic_type\": \"\",\n        \"description\": \"\"\n      }\n    },\n    {\n      \"column\": \"laureate_id\",\n      \"properties\": {\n        \"dtype\": \"number\",\n        \"std\": 298,\n        \"min\": 1,\n        \"max\": 1034,\n        \"num_unique_values\": 992,\n        \"samples\": [\n          338,\n          76,\n          255\n        ],\n        \"semantic_type\": \"\",\n        \"description\": \"\"\n      }\n    },\n    {\n      \"column\": \"laureate_type\",\n      \"properties\": {\n        \"dtype\": \"category\",\n        \"num_unique_values\": 2,\n        \"samples\": [\n          \"Organization\",\n          \"Individual\"\n        ],\n        \"semantic_type\": \"\",\n        \"description\": \"\"\n      }\n    },\n    {\n      \"column\": \"full_name\",\n      \"properties\": {\n        \"dtype\": \"string\",\n        \"num_unique_values\": 993,\n        \"samples\": [\n          \"Arthur Ashkin\",\n          \"John R. Vane\"\n        ],\n        \"semantic_type\": \"\",\n        \"description\": \"\"\n      }\n    },\n    {\n      \"column\": \"birth_date\",\n      \"properties\": {\n        \"dtype\": \"string\",\n        \"num_unique_values\": 949,\n        \"samples\": [\n          \"1895-10-30\",\n          \"1925-10-31\"\n        ],\n        \"semantic_type\": \"\",\n        \"description\": \"\"\n      }\n    },\n    {\n      \"column\": \"birth_city\",\n      \"properties\": {\n        \"dtype\": \"string\",\n        \"num_unique_values\": 649,\n        \"samples\": [\n          \"Geldrop\",\n          \"Ann Arbor, MI\"\n        ],\n        \"semantic_type\": \"\",\n        \"description\": \"\"\n      }\n    },\n    {\n      \"column\": \"birth_country\",\n      \"properties\": {\n        \"dtype\": \"category\",\n        \"num_unique_values\": 129,\n        \"samples\": [\n          \"South Africa\",\n          \"Canada\"\n        ],\n        \"semantic_type\": \"\",\n        \"description\": \"\"\n      }\n    },\n    {\n      \"column\": \"sex\",\n      \"properties\": {\n        \"dtype\": \"category\",\n        \"num_unique_values\": 2,\n        \"samples\": [\n          \"Female\",\n          \"Male\"\n        ],\n        \"semantic_type\": \"\",\n        \"description\": \"\"\n      }\n    },\n    {\n      \"column\": \"organization_name\",\n      \"properties\": {\n        \"dtype\": \"category\",\n        \"num_unique_values\": 325,\n        \"samples\": [\n          \"Imperial Cancer Research Fund\",\n          \"Istituto Superiore di Sanit\\u00e0 (Chief Institute of Public Health)\"\n        ],\n        \"semantic_type\": \"\",\n        \"description\": \"\"\n      }\n    },\n    {\n      \"column\": \"organization_city\",\n      \"properties\": {\n        \"dtype\": \"category\",\n        \"num_unique_values\": 195,\n        \"samples\": [\n          \"Memphis, TN\",\n          \"Manchester\"\n        ],\n        \"semantic_type\": \"\",\n        \"description\": \"\"\n      }\n    },\n    {\n      \"column\": \"organization_country\",\n      \"properties\": {\n        \"dtype\": \"category\",\n        \"num_unique_values\": 29,\n        \"samples\": [\n          \"Israel\",\n          \"Hungary\"\n        ],\n        \"semantic_type\": \"\",\n        \"description\": \"\"\n      }\n    },\n    {\n      \"column\": \"death_date\",\n      \"properties\": {\n        \"dtype\": \"object\",\n        \"num_unique_values\": 585,\n        \"samples\": [\n          \"2009-09-12\",\n          \"2012-02-19\"\n        ],\n        \"semantic_type\": \"\",\n        \"description\": \"\"\n      }\n    },\n    {\n      \"column\": \"death_city\",\n      \"properties\": {\n        \"dtype\": \"category\",\n        \"num_unique_values\": 293,\n        \"samples\": [\n          \"Berkeley, CA\",\n          \"Oak Lawn, IL\"\n        ],\n        \"semantic_type\": \"\",\n        \"description\": \"\"\n      }\n    },\n    {\n      \"column\": \"death_country\",\n      \"properties\": {\n        \"dtype\": \"category\",\n        \"num_unique_values\": 50,\n        \"samples\": [\n          \"Germany (Poland)\",\n          \"Northern Rhodesia (Zambia)\"\n        ],\n        \"semantic_type\": \"\",\n        \"description\": \"\"\n      }\n    }\n  ]\n}"
            }
          },
          "metadata": {},
          "execution_count": 197
        }
      ]
    },
    {
      "cell_type": "code",
      "source": [
        "nobel.columns"
      ],
      "metadata": {
        "colab": {
          "base_uri": "https://localhost:8080/"
        },
        "id": "8EQhYfUPotOI",
        "outputId": "1a835769-db5c-4392-cb86-16f8b018f26e"
      },
      "execution_count": 198,
      "outputs": [
        {
          "output_type": "execute_result",
          "data": {
            "text/plain": [
              "Index(['year', 'category', 'prize', 'motivation', 'prize_share', 'laureate_id',\n",
              "       'laureate_type', 'full_name', 'birth_date', 'birth_city',\n",
              "       'birth_country', 'sex', 'organization_name', 'organization_city',\n",
              "       'organization_country', 'death_date', 'death_city', 'death_country'],\n",
              "      dtype='object')"
            ]
          },
          "metadata": {},
          "execution_count": 198
        }
      ]
    },
    {
      "cell_type": "code",
      "source": [
        "nobel.dtypes"
      ],
      "metadata": {
        "colab": {
          "base_uri": "https://localhost:8080/",
          "height": 649
        },
        "id": "ZBrFT0S4pTGb",
        "outputId": "58d68128-e0f2-4e4d-96ac-712d6bbb4156"
      },
      "execution_count": 199,
      "outputs": [
        {
          "output_type": "execute_result",
          "data": {
            "text/plain": [
              "year                     int64\n",
              "category                object\n",
              "prize                   object\n",
              "motivation              object\n",
              "prize_share             object\n",
              "laureate_id              int64\n",
              "laureate_type           object\n",
              "full_name               object\n",
              "birth_date              object\n",
              "birth_city              object\n",
              "birth_country           object\n",
              "sex                     object\n",
              "organization_name       object\n",
              "organization_city       object\n",
              "organization_country    object\n",
              "death_date              object\n",
              "death_city              object\n",
              "death_country           object\n",
              "dtype: object"
            ],
            "text/html": [
              "<div>\n",
              "<style scoped>\n",
              "    .dataframe tbody tr th:only-of-type {\n",
              "        vertical-align: middle;\n",
              "    }\n",
              "\n",
              "    .dataframe tbody tr th {\n",
              "        vertical-align: top;\n",
              "    }\n",
              "\n",
              "    .dataframe thead th {\n",
              "        text-align: right;\n",
              "    }\n",
              "</style>\n",
              "<table border=\"1\" class=\"dataframe\">\n",
              "  <thead>\n",
              "    <tr style=\"text-align: right;\">\n",
              "      <th></th>\n",
              "      <th>0</th>\n",
              "    </tr>\n",
              "  </thead>\n",
              "  <tbody>\n",
              "    <tr>\n",
              "      <th>year</th>\n",
              "      <td>int64</td>\n",
              "    </tr>\n",
              "    <tr>\n",
              "      <th>category</th>\n",
              "      <td>object</td>\n",
              "    </tr>\n",
              "    <tr>\n",
              "      <th>prize</th>\n",
              "      <td>object</td>\n",
              "    </tr>\n",
              "    <tr>\n",
              "      <th>motivation</th>\n",
              "      <td>object</td>\n",
              "    </tr>\n",
              "    <tr>\n",
              "      <th>prize_share</th>\n",
              "      <td>object</td>\n",
              "    </tr>\n",
              "    <tr>\n",
              "      <th>laureate_id</th>\n",
              "      <td>int64</td>\n",
              "    </tr>\n",
              "    <tr>\n",
              "      <th>laureate_type</th>\n",
              "      <td>object</td>\n",
              "    </tr>\n",
              "    <tr>\n",
              "      <th>full_name</th>\n",
              "      <td>object</td>\n",
              "    </tr>\n",
              "    <tr>\n",
              "      <th>birth_date</th>\n",
              "      <td>object</td>\n",
              "    </tr>\n",
              "    <tr>\n",
              "      <th>birth_city</th>\n",
              "      <td>object</td>\n",
              "    </tr>\n",
              "    <tr>\n",
              "      <th>birth_country</th>\n",
              "      <td>object</td>\n",
              "    </tr>\n",
              "    <tr>\n",
              "      <th>sex</th>\n",
              "      <td>object</td>\n",
              "    </tr>\n",
              "    <tr>\n",
              "      <th>organization_name</th>\n",
              "      <td>object</td>\n",
              "    </tr>\n",
              "    <tr>\n",
              "      <th>organization_city</th>\n",
              "      <td>object</td>\n",
              "    </tr>\n",
              "    <tr>\n",
              "      <th>organization_country</th>\n",
              "      <td>object</td>\n",
              "    </tr>\n",
              "    <tr>\n",
              "      <th>death_date</th>\n",
              "      <td>object</td>\n",
              "    </tr>\n",
              "    <tr>\n",
              "      <th>death_city</th>\n",
              "      <td>object</td>\n",
              "    </tr>\n",
              "    <tr>\n",
              "      <th>death_country</th>\n",
              "      <td>object</td>\n",
              "    </tr>\n",
              "  </tbody>\n",
              "</table>\n",
              "</div><br><label><b>dtype:</b> object</label>"
            ]
          },
          "metadata": {},
          "execution_count": 199
        }
      ]
    },
    {
      "cell_type": "code",
      "source": [
        "nobel = nobel.drop(['death_date','death_city','death_country','motivation', 'prize_share', 'laureate_id',\n",
        "       'laureate_type'],axis=1)"
      ],
      "metadata": {
        "id": "lK3KS_AbpekJ"
      },
      "execution_count": 200,
      "outputs": []
    },
    {
      "cell_type": "code",
      "source": [
        "nobel.columns"
      ],
      "metadata": {
        "colab": {
          "base_uri": "https://localhost:8080/"
        },
        "id": "6I4k3jhXtv1l",
        "outputId": "a72f775c-d298-472c-a9d1-b5fbdc178a94"
      },
      "execution_count": 201,
      "outputs": [
        {
          "output_type": "execute_result",
          "data": {
            "text/plain": [
              "Index(['year', 'category', 'prize', 'full_name', 'birth_date', 'birth_city',\n",
              "       'birth_country', 'sex', 'organization_name', 'organization_city',\n",
              "       'organization_country'],\n",
              "      dtype='object')"
            ]
          },
          "metadata": {},
          "execution_count": 201
        }
      ]
    },
    {
      "cell_type": "code",
      "source": [
        "nobel.isna().sum()"
      ],
      "metadata": {
        "colab": {
          "base_uri": "https://localhost:8080/",
          "height": 429
        },
        "id": "vjG7OufXuKB_",
        "outputId": "9689def6-e55f-4041-e6b5-8e9157783066"
      },
      "execution_count": 202,
      "outputs": [
        {
          "output_type": "execute_result",
          "data": {
            "text/plain": [
              "year                      0\n",
              "category                  0\n",
              "prize                     0\n",
              "full_name                 0\n",
              "birth_date               32\n",
              "birth_city               36\n",
              "birth_country            31\n",
              "sex                      30\n",
              "organization_name       264\n",
              "organization_city       265\n",
              "organization_country    265\n",
              "dtype: int64"
            ],
            "text/html": [
              "<div>\n",
              "<style scoped>\n",
              "    .dataframe tbody tr th:only-of-type {\n",
              "        vertical-align: middle;\n",
              "    }\n",
              "\n",
              "    .dataframe tbody tr th {\n",
              "        vertical-align: top;\n",
              "    }\n",
              "\n",
              "    .dataframe thead th {\n",
              "        text-align: right;\n",
              "    }\n",
              "</style>\n",
              "<table border=\"1\" class=\"dataframe\">\n",
              "  <thead>\n",
              "    <tr style=\"text-align: right;\">\n",
              "      <th></th>\n",
              "      <th>0</th>\n",
              "    </tr>\n",
              "  </thead>\n",
              "  <tbody>\n",
              "    <tr>\n",
              "      <th>year</th>\n",
              "      <td>0</td>\n",
              "    </tr>\n",
              "    <tr>\n",
              "      <th>category</th>\n",
              "      <td>0</td>\n",
              "    </tr>\n",
              "    <tr>\n",
              "      <th>prize</th>\n",
              "      <td>0</td>\n",
              "    </tr>\n",
              "    <tr>\n",
              "      <th>full_name</th>\n",
              "      <td>0</td>\n",
              "    </tr>\n",
              "    <tr>\n",
              "      <th>birth_date</th>\n",
              "      <td>32</td>\n",
              "    </tr>\n",
              "    <tr>\n",
              "      <th>birth_city</th>\n",
              "      <td>36</td>\n",
              "    </tr>\n",
              "    <tr>\n",
              "      <th>birth_country</th>\n",
              "      <td>31</td>\n",
              "    </tr>\n",
              "    <tr>\n",
              "      <th>sex</th>\n",
              "      <td>30</td>\n",
              "    </tr>\n",
              "    <tr>\n",
              "      <th>organization_name</th>\n",
              "      <td>264</td>\n",
              "    </tr>\n",
              "    <tr>\n",
              "      <th>organization_city</th>\n",
              "      <td>265</td>\n",
              "    </tr>\n",
              "    <tr>\n",
              "      <th>organization_country</th>\n",
              "      <td>265</td>\n",
              "    </tr>\n",
              "  </tbody>\n",
              "</table>\n",
              "</div><br><label><b>dtype:</b> int64</label>"
            ]
          },
          "metadata": {},
          "execution_count": 202
        }
      ]
    },
    {
      "cell_type": "markdown",
      "source": [
        " What is the most commonly awarded gender and birth country?"
      ],
      "metadata": {
        "id": "TBgJaFW3_tyA"
      }
    },
    {
      "cell_type": "code",
      "source": [
        "# Fiding the common gender\n",
        "common_gender = nobel['sex'].value_counts().head(1)\n",
        "print(common_gender)"
      ],
      "metadata": {
        "colab": {
          "base_uri": "https://localhost:8080/"
        },
        "id": "6e3H4fllvyqc",
        "outputId": "66b3c182-7683-4c86-82f3-a80f94b17f02"
      },
      "execution_count": 203,
      "outputs": [
        {
          "output_type": "stream",
          "name": "stdout",
          "text": [
            "sex\n",
            "Male    905\n",
            "Name: count, dtype: int64\n"
          ]
        }
      ]
    },
    {
      "cell_type": "code",
      "source": [
        "# Find the top 10 most common countries\n",
        "top_10_countries = nobel['birth_country'].value_counts().head(10)\n",
        "\n",
        "print(top_10_countries)"
      ],
      "metadata": {
        "colab": {
          "base_uri": "https://localhost:8080/"
        },
        "id": "yl3IdVnIwLXo",
        "outputId": "678f7f16-ab4c-459a-8931-efbf5ef73385"
      },
      "execution_count": 204,
      "outputs": [
        {
          "output_type": "stream",
          "name": "stdout",
          "text": [
            "birth_country\n",
            "United States of America    291\n",
            "United Kingdom               91\n",
            "Germany                      67\n",
            "France                       58\n",
            "Sweden                       30\n",
            "Japan                        28\n",
            "Canada                       21\n",
            "Switzerland                  19\n",
            "Netherlands                  19\n",
            "Italy                        18\n",
            "Name: count, dtype: int64\n"
          ]
        }
      ]
    },
    {
      "cell_type": "code",
      "source": [
        "# Storing the common gender and the top country\n",
        "top_gender = 'Male'\n",
        "top_country = 'United States of America'"
      ],
      "metadata": {
        "id": "lF2tIe1VyIIQ"
      },
      "execution_count": 205,
      "outputs": []
    },
    {
      "cell_type": "markdown",
      "source": [
        "Which decade had the highest ratio of US-born Nobel Prize winners to total winners in all categories?\n"
      ],
      "metadata": {
        "id": "kItX5HuU1cDt"
      }
    },
    {
      "cell_type": "code",
      "source": [
        "nobel['born_in_USA'] = nobel['birth_country'] == top_country\n",
        "nobel['decade'] = (np.floor(nobel['year'] / 10) * 10).astype(int)\n",
        "USA_ratio = nobel.groupby('decade', as_index = False)['born_in_USA'].mean()\n",
        "\n",
        "# Printing ratios\n",
        "print(USA_ratio)"
      ],
      "metadata": {
        "colab": {
          "base_uri": "https://localhost:8080/"
        },
        "id": "_rS6jVoE1BOL",
        "outputId": "0c54a2a1-10f0-484c-af5a-6b76299c6208"
      },
      "execution_count": 206,
      "outputs": [
        {
          "output_type": "stream",
          "name": "stdout",
          "text": [
            "    decade  born_in_USA\n",
            "0     1900     0.017544\n",
            "1     1910     0.075000\n",
            "2     1920     0.074074\n",
            "3     1930     0.250000\n",
            "4     1940     0.302326\n",
            "5     1950     0.291667\n",
            "6     1960     0.265823\n",
            "7     1970     0.317308\n",
            "8     1980     0.319588\n",
            "9     1990     0.403846\n",
            "10    2000     0.422764\n",
            "11    2010     0.314050\n",
            "12    2020     0.360000\n"
          ]
        }
      ]
    },
    {
      "cell_type": "code",
      "source": [
        "# visualizing the number of USA born winners in each decade\n",
        "sns.set(style=\"whitegrid\")\n",
        "\n",
        "sns.catplot(x='decade',kind='count',data=nobel,hue='born_in_USA')\n",
        "plt.xticks(rotation=45)\n",
        "\n",
        "max_decade_usa=2000"
      ],
      "metadata": {
        "colab": {
          "base_uri": "https://localhost:8080/",
          "height": 524
        },
        "id": "8f6j5T9e9j1t",
        "outputId": "39954749-a574-4913-f4e1-09ffd5542be2"
      },
      "execution_count": 207,
      "outputs": [
        {
          "output_type": "display_data",
          "data": {
            "text/plain": [
              "<Figure size 616.222x500 with 1 Axes>"
            ],
            "image/png": "[encoded data removed]"
          },
          "metadata": {}
        }
      ]
    },
    {
      "cell_type": "code",
      "source": [
        "# Identifying the decade with the highest proportion of US-born winners\n",
        "max_decade_usa = USA_ratio[USA_ratio['born_in_USA'] == USA_ratio['born_in_USA'].max()]['decade'].values[0]\n",
        "print(\"The decade with the highest proportion of US born winners is\", max_decade_usa)"
      ],
      "metadata": {
        "colab": {
          "base_uri": "https://localhost:8080/"
        },
        "id": "DUrzpXOm3pWK",
        "outputId": "831f2bc8-469e-4759-eb46-60176ef8d317"
      },
      "execution_count": 208,
      "outputs": [
        {
          "output_type": "stream",
          "name": "stdout",
          "text": [
            "The decade with the highest proportion of US born winners is 2000\n"
          ]
        }
      ]
    },
    {
      "cell_type": "code",
      "source": [
        "# Visualizing the ratios data\n",
        "plot1 = sns.relplot(data = USA_ratio, kind = \"line\", x = 'decade', y = 'born_in_USA' )"
      ],
      "metadata": {
        "colab": {
          "base_uri": "https://localhost:8080/",
          "height": 501
        },
        "id": "DTKz8nG638un",
        "outputId": "6d4880e6-5d8b-44bf-947c-5b99f948045e"
      },
      "execution_count": 209,
      "outputs": [
        {
          "output_type": "display_data",
          "data": {
            "text/plain": [
              "<Figure size 500x500 with 1 Axes>"
            ],
            "image/png": "[encoded data removed]"
          },
          "metadata": {}
        }
      ]
    },
    {
      "cell_type": "markdown",
      "source": [
        "Which decade and Nobel Prize category combination had the highest proportion of female laureates?"
      ],
      "metadata": {
        "id": "cUuQGuN84UVg"
      }
    },
    {
      "cell_type": "code",
      "source": [
        "# Filtering for female winners\n",
        "nobel['female'] = nobel['sex'] == \"Female\""
      ],
      "metadata": {
        "id": "_czoazSV4IxW"
      },
      "execution_count": 210,
      "outputs": []
    },
    {
      "cell_type": "code",
      "source": [
        "# Finding the average of female winners by decade and category\n",
        "female_category_decade = nobel.groupby(['decade','category'], as_index = False)['female'].mean()\n",
        "print(female_category_decade.head(10))"
      ],
      "metadata": {
        "colab": {
          "base_uri": "https://localhost:8080/"
        },
        "id": "4ahgNeJV4bUs",
        "outputId": "c7b2f255-c32b-443d-fb44-67bf1045f777"
      },
      "execution_count": 211,
      "outputs": [
        {
          "output_type": "stream",
          "name": "stdout",
          "text": [
            "   decade    category    female\n",
            "0    1900   Chemistry  0.000000\n",
            "1    1900  Literature  0.100000\n",
            "2    1900    Medicine  0.000000\n",
            "3    1900       Peace  0.071429\n",
            "4    1900     Physics  0.076923\n",
            "5    1910   Chemistry  0.125000\n",
            "6    1910  Literature  0.000000\n",
            "7    1910    Medicine  0.000000\n",
            "8    1910       Peace  0.000000\n",
            "9    1910     Physics  0.000000\n"
          ]
        }
      ]
    },
    {
      "cell_type": "code",
      "source": [
        "# Finding the highest proportion of female laureates\n",
        "max_female = female_category_decade[female_category_decade['female']==female_category_decade['female'].max()][['decade', 'category']]\n",
        "print(max_female)"
      ],
      "metadata": {
        "colab": {
          "base_uri": "https://localhost:8080/"
        },
        "id": "SHioPLHo4shy",
        "outputId": "235ba6ad-33a8-4b2c-fecb-6528e636a95e"
      },
      "execution_count": 212,
      "outputs": [
        {
          "output_type": "stream",
          "name": "stdout",
          "text": [
            "    decade    category\n",
            "68    2020  Literature\n"
          ]
        }
      ]
    },
    {
      "cell_type": "code",
      "source": [
        "# Storing it as a dictionary\n",
        "max_female_dict = {max_female['decade'].values[0]:max_female['category'].values[0]}\n",
        "print(max_female_dict)"
      ],
      "metadata": {
        "colab": {
          "base_uri": "https://localhost:8080/"
        },
        "id": "nPGd8yXH4zlO",
        "outputId": "c63c8f37-88ec-4cef-e51b-c0957f1a58e8"
      },
      "execution_count": 213,
      "outputs": [
        {
          "output_type": "stream",
          "name": "stdout",
          "text": [
            "{2020: 'Literature'}\n"
          ]
        }
      ]
    },
    {
      "cell_type": "code",
      "source": [
        "# Visualizing the data\n",
        "plot2 = sns.relplot(data = female_category_decade, kind = \"line\", x = 'decade', y = 'female', hue = 'category' )"
      ],
      "metadata": {
        "colab": {
          "base_uri": "https://localhost:8080/",
          "height": 501
        },
        "id": "NXHf2_-r46Zm",
        "outputId": "8901c02d-1b0c-42ea-816f-b74d570fe74f"
      },
      "execution_count": 214,
      "outputs": [
        {
          "output_type": "display_data",
          "data": {
            "text/plain": [
              "<Figure size 637.125x500 with 1 Axes>"
            ],
            "image/png": "[encoded data removed]"
          },
          "metadata": {}
        }
      ]
    },
    {
      "cell_type": "markdown",
      "source": [
        "Who was the first woman to receive a Nobel Prize, and in what category"
      ],
      "metadata": {
        "id": "HuyEXjOl52yc"
      }
    },
    {
      "cell_type": "code",
      "source": [
        "female_only = nobel[nobel['female']]\n",
        "min_row = female_only[female_only['year'] == female_only['year'].min()]\n",
        "first_woman_name = min_row['full_name'].values[0]\n",
        "print (first_woman_name)"
      ],
      "metadata": {
        "colab": {
          "base_uri": "https://localhost:8080/"
        },
        "id": "eIGMhNEo52ZL",
        "outputId": "7e0c829d-9a2b-488c-fa1b-098adcdb692d"
      },
      "execution_count": 215,
      "outputs": [
        {
          "output_type": "stream",
          "name": "stdout",
          "text": [
            "Marie Curie, née Sklodowska\n"
          ]
        }
      ]
    },
    {
      "cell_type": "code",
      "source": [
        "first_woman_category = min_row['category'].values[0]\n",
        "print(first_woman_category)"
      ],
      "metadata": {
        "colab": {
          "base_uri": "https://localhost:8080/"
        },
        "id": "RXKTG5cD6LyZ",
        "outputId": "427b5e2f-5ab3-4073-f98c-85cf04d4b940"
      },
      "execution_count": 216,
      "outputs": [
        {
          "output_type": "stream",
          "name": "stdout",
          "text": [
            "Physics\n"
          ]
        }
      ]
    },
    {
      "cell_type": "code",
      "source": [
        "# Printing the answer\n",
        "print(\"The first woman to win the nobel prize was\", first_woman_name, \", in the category of\", first_woman_category,\".\")"
      ],
      "metadata": {
        "colab": {
          "base_uri": "https://localhost:8080/"
        },
        "id": "hXGfaAqV6OtB",
        "outputId": "2a241c23-a3d2-4510-a2c1-e63b32603982"
      },
      "execution_count": 217,
      "outputs": [
        {
          "output_type": "stream",
          "name": "stdout",
          "text": [
            "The first woman to win the nobel prize was Marie Curie, née Sklodowska , in the category of Physics .\n"
          ]
        }
      ]
    },
    {
      "cell_type": "markdown",
      "source": [
        "Which individuals or organizations have won more than one Nobel Prize throughout the years?"
      ],
      "metadata": {
        "id": "AxAhSXjq6XXO"
      }
    },
    {
      "cell_type": "code",
      "source": [
        "counts = nobel.value_counts('full_name')\n",
        "repeats = counts[counts >= 2].index\n",
        "repeat_list = list(repeats)\n",
        "print(repeat_list)"
      ],
      "metadata": {
        "colab": {
          "base_uri": "https://localhost:8080/"
        },
        "id": "qy9zaAjF6ZLY",
        "outputId": "850c3216-8b65-4616-d369-ed42b0e8060f"
      },
      "execution_count": 218,
      "outputs": [
        {
          "output_type": "stream",
          "name": "stdout",
          "text": [
            "['Comité international de la Croix Rouge (International Committee of the Red Cross)', 'Office of the United Nations High Commissioner for Refugees (UNHCR)', 'Frederick Sanger', 'Linus Carl Pauling', 'John Bardeen', 'Marie Curie, née Sklodowska']\n"
          ]
        }
      ]
    },
    {
      "cell_type": "code",
      "source": [
        "# Printing the results summary\n",
        "print(\"Most commonly awarded gender:\", top_gender)\n",
        "print(\"Most commonly awarded birth country:\", top_country)\n",
        "print(\"Decade with the highest ratio of US-born Nobel Prize winners:\", max_decade_usa)\n",
        "print(\"Decade and Nobel Prize category with the highest proportion of female laureates:\", max_female_dict)\n",
        "print(\"First woman to receive a Nobel Prize:\", first_woman_name, \"in category:\", first_woman_category)\n",
        "print(\"Individuals or organizations that have won more than one Nobel Prize:\", repeat_list)"
      ],
      "metadata": {
        "colab": {
          "base_uri": "https://localhost:8080/"
        },
        "id": "1GKLyAWI7ozh",
        "outputId": "ae754386-b32f-49c0-9ae9-97d19861424e"
      },
      "execution_count": 219,
      "outputs": [
        {
          "output_type": "stream",
          "name": "stdout",
          "text": [
            "Most commonly awarded gender: Male\n",
            "Most commonly awarded birth country: United States of America\n",
            "Decade with the highest ratio of US-born Nobel Prize winners: 2000\n",
            "Decade and Nobel Prize category with the highest proportion of female laureates: {2020: 'Literature'}\n",
            "First woman to receive a Nobel Prize: Marie Curie, née Sklodowska in category: Physics\n",
            "Individuals or organizations that have won more than one Nobel Prize: ['Comité international de la Croix Rouge (International Committee of the Red Cross)', 'Office of the United Nations High Commissioner for Refugees (UNHCR)', 'Frederick Sanger', 'Linus Carl Pauling', 'John Bardeen', 'Marie Curie, née Sklodowska']\n"
          ]
        }
      ]
    }
  ]
}